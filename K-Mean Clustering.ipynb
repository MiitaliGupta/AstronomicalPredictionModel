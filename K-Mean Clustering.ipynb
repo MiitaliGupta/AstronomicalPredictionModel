{
  "nbformat": 4,
  "nbformat_minor": 0,
  "metadata": {
    "colab": {
      "name": "2041153_Clustering.ipynb",
      "provenance": [],
      "authorship_tag": "ABX9TyOScx0gBfc3CCPTTeaiObCF",
      "include_colab_link": true
    },
    "kernelspec": {
      "name": "python3",
      "display_name": "Python 3"
    },
    "language_info": {
      "name": "python"
    }
  },
  "cells": [
    {
      "cell_type": "markdown",
      "metadata": {
        "id": "view-in-github",
        "colab_type": "text"
      },
      "source": [
        "<a href=\"https://colab.research.google.com/github/MiitaliGupta/MachineLearning/blob/main/K-Mean%20Clustering.ipynb\" target=\"_parent\"><img src=\"https://colab.research.google.com/assets/colab-badge.svg\" alt=\"Open In Colab\"/></a>"
      ]
    },
    {
      "cell_type": "markdown",
      "source": [
        "#**K-Mean Clustering**"
      ],
      "metadata": {
        "id": "uwiUEeWhzCc-"
      }
    },
    {
      "cell_type": "code",
      "execution_count": null,
      "metadata": {
        "id": "PRGRRaJ-z9Ym"
      },
      "outputs": [],
      "source": [
        "import numpy as np # linear algebra\n",
        "import pandas as pd # data processing, CSV file I/O (e.g. pd.read_csv)\n",
        "import matplotlib.pyplot as plt #Data Visualization \n",
        "import seaborn as sns  #Python library for Vidualization\n",
        "import io\n",
        "import os"
      ]
    },
    {
      "cell_type": "code",
      "source": [
        "dataset = pd.read_csv('https://raw.githubusercontent.com/MiitaliGupta/MachineLearning/main/Datasets/NASA_OrbitingBodies.csv')\n",
        "x = dataset.iloc[:, [2, 4]].values\n",
        "dataset"
      ],
      "metadata": {
        "colab": {
          "base_uri": "https://localhost:8080/",
          "height": 424
        },
        "id": "JO6lXNy0zFr0",
        "outputId": "843b3d80-ac88-429c-f284-5f0d421f3b25"
      },
      "execution_count": null,
      "outputs": [
        {
          "output_type": "execute_result",
          "data": {
            "text/plain": [
              "           Id                 Name  Estimated Diameter Diameter Category  \\\n",
              "0     2162635  162635 (2000 SS164)            2.679415          Too High   \n",
              "1     2277475    277475 (2005 WK4)            0.594347          Too High   \n",
              "2     2512244   512244 (2015 YE18)            1.614507          Too High   \n",
              "3     3596030          (2012 BV13)            0.215794              High   \n",
              "4     3667127          (2014 GE35)            0.570217          Too High   \n",
              "...       ...                  ...                 ...               ...   \n",
              "1495  3623682          (2013 AF53)            0.029788           Too Low   \n",
              "1496  3789124           (2017 VD2)            0.297879              High   \n",
              "1497  3842597           (2019 KN2)            0.022596           Too Low   \n",
              "1498  3879292           (2019 UN2)            0.054205               Low   \n",
              "1499  2088264    88264 (2001 KN20)            2.312278          Too High   \n",
              "\n",
              "      Relative Velocity Velocity Cayegory  Hazardous  \n",
              "0           13569.24922           Too Low      False  \n",
              "1           73588.72666          Too High       True  \n",
              "2          114258.69210          Too High      False  \n",
              "3           24764.30314           Too Low      False  \n",
              "4           42737.73376               Low       True  \n",
              "...                 ...               ...        ...  \n",
              "1495        29246.86613           Too Low      False  \n",
              "1496        53337.88160              High      False  \n",
              "1497        49376.05522              High      False  \n",
              "1498        27317.89329           Too Low      False  \n",
              "1499        36389.89484               Low      False  \n",
              "\n",
              "[1500 rows x 7 columns]"
            ],
            "text/html": [
              "\n",
              "  <div id=\"df-0d24978e-99ef-4da7-811c-7787b704c0ad\">\n",
              "    <div class=\"colab-df-container\">\n",
              "      <div>\n",
              "<style scoped>\n",
              "    .dataframe tbody tr th:only-of-type {\n",
              "        vertical-align: middle;\n",
              "    }\n",
              "\n",
              "    .dataframe tbody tr th {\n",
              "        vertical-align: top;\n",
              "    }\n",
              "\n",
              "    .dataframe thead th {\n",
              "        text-align: right;\n",
              "    }\n",
              "</style>\n",
              "<table border=\"1\" class=\"dataframe\">\n",
              "  <thead>\n",
              "    <tr style=\"text-align: right;\">\n",
              "      <th></th>\n",
              "      <th>Id</th>\n",
              "      <th>Name</th>\n",
              "      <th>Estimated Diameter</th>\n",
              "      <th>Diameter Category</th>\n",
              "      <th>Relative Velocity</th>\n",
              "      <th>Velocity Cayegory</th>\n",
              "      <th>Hazardous</th>\n",
              "    </tr>\n",
              "  </thead>\n",
              "  <tbody>\n",
              "    <tr>\n",
              "      <th>0</th>\n",
              "      <td>2162635</td>\n",
              "      <td>162635 (2000 SS164)</td>\n",
              "      <td>2.679415</td>\n",
              "      <td>Too High</td>\n",
              "      <td>13569.24922</td>\n",
              "      <td>Too Low</td>\n",
              "      <td>False</td>\n",
              "    </tr>\n",
              "    <tr>\n",
              "      <th>1</th>\n",
              "      <td>2277475</td>\n",
              "      <td>277475 (2005 WK4)</td>\n",
              "      <td>0.594347</td>\n",
              "      <td>Too High</td>\n",
              "      <td>73588.72666</td>\n",
              "      <td>Too High</td>\n",
              "      <td>True</td>\n",
              "    </tr>\n",
              "    <tr>\n",
              "      <th>2</th>\n",
              "      <td>2512244</td>\n",
              "      <td>512244 (2015 YE18)</td>\n",
              "      <td>1.614507</td>\n",
              "      <td>Too High</td>\n",
              "      <td>114258.69210</td>\n",
              "      <td>Too High</td>\n",
              "      <td>False</td>\n",
              "    </tr>\n",
              "    <tr>\n",
              "      <th>3</th>\n",
              "      <td>3596030</td>\n",
              "      <td>(2012 BV13)</td>\n",
              "      <td>0.215794</td>\n",
              "      <td>High</td>\n",
              "      <td>24764.30314</td>\n",
              "      <td>Too Low</td>\n",
              "      <td>False</td>\n",
              "    </tr>\n",
              "    <tr>\n",
              "      <th>4</th>\n",
              "      <td>3667127</td>\n",
              "      <td>(2014 GE35)</td>\n",
              "      <td>0.570217</td>\n",
              "      <td>Too High</td>\n",
              "      <td>42737.73376</td>\n",
              "      <td>Low</td>\n",
              "      <td>True</td>\n",
              "    </tr>\n",
              "    <tr>\n",
              "      <th>...</th>\n",
              "      <td>...</td>\n",
              "      <td>...</td>\n",
              "      <td>...</td>\n",
              "      <td>...</td>\n",
              "      <td>...</td>\n",
              "      <td>...</td>\n",
              "      <td>...</td>\n",
              "    </tr>\n",
              "    <tr>\n",
              "      <th>1495</th>\n",
              "      <td>3623682</td>\n",
              "      <td>(2013 AF53)</td>\n",
              "      <td>0.029788</td>\n",
              "      <td>Too Low</td>\n",
              "      <td>29246.86613</td>\n",
              "      <td>Too Low</td>\n",
              "      <td>False</td>\n",
              "    </tr>\n",
              "    <tr>\n",
              "      <th>1496</th>\n",
              "      <td>3789124</td>\n",
              "      <td>(2017 VD2)</td>\n",
              "      <td>0.297879</td>\n",
              "      <td>High</td>\n",
              "      <td>53337.88160</td>\n",
              "      <td>High</td>\n",
              "      <td>False</td>\n",
              "    </tr>\n",
              "    <tr>\n",
              "      <th>1497</th>\n",
              "      <td>3842597</td>\n",
              "      <td>(2019 KN2)</td>\n",
              "      <td>0.022596</td>\n",
              "      <td>Too Low</td>\n",
              "      <td>49376.05522</td>\n",
              "      <td>High</td>\n",
              "      <td>False</td>\n",
              "    </tr>\n",
              "    <tr>\n",
              "      <th>1498</th>\n",
              "      <td>3879292</td>\n",
              "      <td>(2019 UN2)</td>\n",
              "      <td>0.054205</td>\n",
              "      <td>Low</td>\n",
              "      <td>27317.89329</td>\n",
              "      <td>Too Low</td>\n",
              "      <td>False</td>\n",
              "    </tr>\n",
              "    <tr>\n",
              "      <th>1499</th>\n",
              "      <td>2088264</td>\n",
              "      <td>88264 (2001 KN20)</td>\n",
              "      <td>2.312278</td>\n",
              "      <td>Too High</td>\n",
              "      <td>36389.89484</td>\n",
              "      <td>Low</td>\n",
              "      <td>False</td>\n",
              "    </tr>\n",
              "  </tbody>\n",
              "</table>\n",
              "<p>1500 rows × 7 columns</p>\n",
              "</div>\n",
              "      <button class=\"colab-df-convert\" onclick=\"convertToInteractive('df-0d24978e-99ef-4da7-811c-7787b704c0ad')\"\n",
              "              title=\"Convert this dataframe to an interactive table.\"\n",
              "              style=\"display:none;\">\n",
              "        \n",
              "  <svg xmlns=\"http://www.w3.org/2000/svg\" height=\"24px\"viewBox=\"0 0 24 24\"\n",
              "       width=\"24px\">\n",
              "    <path d=\"M0 0h24v24H0V0z\" fill=\"none\"/>\n",
              "    <path d=\"M18.56 5.44l.94 2.06.94-2.06 2.06-.94-2.06-.94-.94-2.06-.94 2.06-2.06.94zm-11 1L8.5 8.5l.94-2.06 2.06-.94-2.06-.94L8.5 2.5l-.94 2.06-2.06.94zm10 10l.94 2.06.94-2.06 2.06-.94-2.06-.94-.94-2.06-.94 2.06-2.06.94z\"/><path d=\"M17.41 7.96l-1.37-1.37c-.4-.4-.92-.59-1.43-.59-.52 0-1.04.2-1.43.59L10.3 9.45l-7.72 7.72c-.78.78-.78 2.05 0 2.83L4 21.41c.39.39.9.59 1.41.59.51 0 1.02-.2 1.41-.59l7.78-7.78 2.81-2.81c.8-.78.8-2.07 0-2.86zM5.41 20L4 18.59l7.72-7.72 1.47 1.35L5.41 20z\"/>\n",
              "  </svg>\n",
              "      </button>\n",
              "      \n",
              "  <style>\n",
              "    .colab-df-container {\n",
              "      display:flex;\n",
              "      flex-wrap:wrap;\n",
              "      gap: 12px;\n",
              "    }\n",
              "\n",
              "    .colab-df-convert {\n",
              "      background-color: #E8F0FE;\n",
              "      border: none;\n",
              "      border-radius: 50%;\n",
              "      cursor: pointer;\n",
              "      display: none;\n",
              "      fill: #1967D2;\n",
              "      height: 32px;\n",
              "      padding: 0 0 0 0;\n",
              "      width: 32px;\n",
              "    }\n",
              "\n",
              "    .colab-df-convert:hover {\n",
              "      background-color: #E2EBFA;\n",
              "      box-shadow: 0px 1px 2px rgba(60, 64, 67, 0.3), 0px 1px 3px 1px rgba(60, 64, 67, 0.15);\n",
              "      fill: #174EA6;\n",
              "    }\n",
              "\n",
              "    [theme=dark] .colab-df-convert {\n",
              "      background-color: #3B4455;\n",
              "      fill: #D2E3FC;\n",
              "    }\n",
              "\n",
              "    [theme=dark] .colab-df-convert:hover {\n",
              "      background-color: #434B5C;\n",
              "      box-shadow: 0px 1px 3px 1px rgba(0, 0, 0, 0.15);\n",
              "      filter: drop-shadow(0px 1px 2px rgba(0, 0, 0, 0.3));\n",
              "      fill: #FFFFFF;\n",
              "    }\n",
              "  </style>\n",
              "\n",
              "      <script>\n",
              "        const buttonEl =\n",
              "          document.querySelector('#df-0d24978e-99ef-4da7-811c-7787b704c0ad button.colab-df-convert');\n",
              "        buttonEl.style.display =\n",
              "          google.colab.kernel.accessAllowed ? 'block' : 'none';\n",
              "\n",
              "        async function convertToInteractive(key) {\n",
              "          const element = document.querySelector('#df-0d24978e-99ef-4da7-811c-7787b704c0ad');\n",
              "          const dataTable =\n",
              "            await google.colab.kernel.invokeFunction('convertToInteractive',\n",
              "                                                     [key], {});\n",
              "          if (!dataTable) return;\n",
              "\n",
              "          const docLinkHtml = 'Like what you see? Visit the ' +\n",
              "            '<a target=\"_blank\" href=https://colab.research.google.com/notebooks/data_table.ipynb>data table notebook</a>'\n",
              "            + ' to learn more about interactive tables.';\n",
              "          element.innerHTML = '';\n",
              "          dataTable['output_type'] = 'display_data';\n",
              "          await google.colab.output.renderOutput(dataTable, element);\n",
              "          const docLink = document.createElement('div');\n",
              "          docLink.innerHTML = docLinkHtml;\n",
              "          element.appendChild(docLink);\n",
              "        }\n",
              "      </script>\n",
              "    </div>\n",
              "  </div>\n",
              "  "
            ]
          },
          "metadata": {},
          "execution_count": 22
        }
      ]
    },
    {
      "cell_type": "markdown",
      "source": [
        "###Preprocessing"
      ],
      "metadata": {
        "id": "hmQRKGHJZgFi"
      }
    },
    {
      "cell_type": "markdown",
      "source": [
        "**Encoding character values**"
      ],
      "metadata": {
        "id": "gqehSJxN_-OA"
      }
    },
    {
      "cell_type": "code",
      "source": [
        "from sklearn.preprocessing import LabelEncoder\n",
        "le = LabelEncoder()\n",
        "x[:,0] = le.fit_transform(x[:,0])\n",
        "x[:,1] = le.fit_transform(x[:,1])"
      ],
      "metadata": {
        "id": "j3J8YSQwAfg2"
      },
      "execution_count": null,
      "outputs": []
    },
    {
      "cell_type": "code",
      "source": [
        "print(x)"
      ],
      "metadata": {
        "colab": {
          "base_uri": "https://localhost:8080/"
        },
        "id": "FNjNJq_uT_ii",
        "outputId": "7f43933e-5561-41f1-f579-19324b241736"
      },
      "execution_count": null,
      "outputs": [
        {
          "output_type": "stream",
          "name": "stdout",
          "text": [
            "[[ 481.   46.]\n",
            " [ 348. 1205.]\n",
            " [ 450. 1465.]\n",
            " ...\n",
            " [  67.  739.]\n",
            " [ 131.  280.]\n",
            " [ 477.  483.]]\n"
          ]
        }
      ]
    },
    {
      "cell_type": "markdown",
      "source": [
        "###Feature Scaling"
      ],
      "metadata": {
        "id": "dlebVmFN9xqk"
      }
    },
    {
      "cell_type": "code",
      "source": [
        "from sklearn.preprocessing import StandardScaler  \n",
        "sc = StandardScaler() \n",
        "# x= x.reshape(-1,1) \n",
        "x = sc.fit_transform(x)  \n",
        "# x_test = sc.transform(x_test)  "
      ],
      "metadata": {
        "id": "KgxZe6Bu91Jw"
      },
      "execution_count": null,
      "outputs": []
    },
    {
      "cell_type": "code",
      "source": [
        "print(x)"
      ],
      "metadata": {
        "colab": {
          "base_uri": "https://localhost:8080/"
        },
        "id": "5PBjYbFERuGL",
        "outputId": "7b408b66-6400-4503-ed44-ba4dedfc9d1e"
      },
      "execution_count": null,
      "outputs": [
        {
          "output_type": "stream",
          "name": "stdout",
          "text": [
            "[[ 2.14404373 -1.62466402]\n",
            " [ 1.0270656   1.05193242]\n",
            " [ 1.88369544  1.65237684]\n",
            " ...\n",
            " [-1.33286565 -0.02424872]\n",
            " [-0.79537242 -1.08426405]\n",
            " [ 2.1104504  -0.61545552]]\n"
          ]
        }
      ]
    },
    {
      "cell_type": "markdown",
      "source": [
        "##\n",
        " **Importing the K-mean clustering classifier from sklearn**"
      ],
      "metadata": {
        "id": "4BWS3jdg6FCN"
      }
    },
    {
      "cell_type": "markdown",
      "source": [
        "Scikit-learn is a free machine learning library for Python. It features several regression, classification and clustering algorithms."
      ],
      "metadata": {
        "id": "YurjDZoum0RR"
      }
    },
    {
      "cell_type": "code",
      "source": [
        "from sklearn.cluster import KMeans\n",
        "wcss=[]\n",
        "\n",
        "#we always assume the max number of cluster would be 10\n",
        "#you can judge the number of clusters by doing averaging\n",
        "###Static code to get max no of clusters\n",
        "\n",
        "for i in range(1,11):\n",
        "    kmeans = KMeans(n_clusters= i, init='k-means++', random_state=0)\n",
        "    kmeans.fit(x)\n",
        "    wcss.append(kmeans.inertia_)"
      ],
      "metadata": {
        "id": "HWpNOLg-pPsx"
      },
      "execution_count": null,
      "outputs": []
    },
    {
      "cell_type": "markdown",
      "source": [
        "## ELBOW METHOD"
      ],
      "metadata": {
        "id": "JaoAUUBH7cbK"
      }
    },
    {
      "cell_type": "markdown",
      "source": [
        "The elbow method is used to determine the number of clusters in the dataset. We pick the number of clusters to use by picking the elbow of the curve as the number of clusters to use."
      ],
      "metadata": {
        "id": "Dhb_U-JX7f_F"
      }
    },
    {
      "cell_type": "code",
      "source": [
        "plt.plot(range(1,11), wcss)\n",
        "plt.title('The Elbow Method')\n",
        "plt.xlabel('no of clusters')\n",
        "plt.ylabel('wcss')\n",
        "plt.show()"
      ],
      "metadata": {
        "colab": {
          "base_uri": "https://localhost:8080/",
          "height": 295
        },
        "id": "x_ULIF5XpSsA",
        "outputId": "168d7263-9ade-462c-858e-5cf1af00e9e0"
      },
      "execution_count": null,
      "outputs": [
        {
          "output_type": "display_data",
          "data": {
            "text/plain": [
              "<Figure size 432x288 with 1 Axes>"
            ],
            "image/png": "[encoded data removed]"
          },
          "metadata": {
            "needs_background": "light"
          }
        }
      ]
    },
    {
      "cell_type": "markdown",
      "source": [
        "The elbow of the curve is at 4, therefore the number of clusters is 4"
      ],
      "metadata": {
        "id": "ELVCdEvX8Lgb"
      }
    },
    {
      "cell_type": "markdown",
      "source": [
        "##Implementing K-means clustering"
      ],
      "metadata": {
        "id": "11r3bg7_8n-D"
      }
    },
    {
      "cell_type": "code",
      "source": [
        "kmeansmodel = KMeans(n_clusters= 4, init='k-means++', random_state=0)\n",
        "y_kmeans= kmeansmodel.fit_predict(x)"
      ],
      "metadata": {
        "id": "m1batrOupWLD"
      },
      "execution_count": null,
      "outputs": []
    },
    {
      "cell_type": "markdown",
      "source": [
        "## Plotting the graph\n"
      ],
      "metadata": {
        "id": "4tg7ciHr9THT"
      }
    },
    {
      "cell_type": "code",
      "source": [
        "plt.figure(figsize=(8,8))\n",
        "plt.scatter(x[y_kmeans == 0, 0], x[y_kmeans == 0, 1], s = 100, c = 'red', label = 'Cluster 1')\n",
        "plt.scatter(x[y_kmeans == 1, 0], x[y_kmeans == 1, 1], s = 100, c = 'blue', label = 'Cluster 2')\n",
        "plt.scatter(x[y_kmeans == 2, 0], x[y_kmeans == 2, 1], s = 100, c = 'green', label = 'Cluster 3')\n",
        "plt.scatter(x[y_kmeans == 3, 0], x[y_kmeans == 3, 1], s = 100, c = 'yellow', label = 'Cluster 4')\n",
        "plt.scatter(kmeans.cluster_centers_[:, 0], kmeans.cluster_centers_[:, 1], s = 200, c = 'cyan', label = 'Centroids')\n",
        "plt.title('Clusters of Hazardous and non-Hazardous')\n",
        "plt.xlabel('Estimated Diameter')\n",
        "plt.ylabel('Relative Velocity')\n",
        "plt.legend()\n",
        "plt.show()"
      ],
      "metadata": {
        "colab": {
          "base_uri": "https://localhost:8080/",
          "height": 513
        },
        "id": "a0tue0HXpYGp",
        "outputId": "f05963ae-63dc-4f8e-fa76-a8cb194f2a06"
      },
      "execution_count": null,
      "outputs": [
        {
          "output_type": "display_data",
          "data": {
            "text/plain": [
              "<Figure size 576x576 with 1 Axes>"
            ],
            "image/png": "[encoded data removed]"
          },
          "metadata": {
            "needs_background": "light"
          }
        }
      ]
    },
    {
      "cell_type": "markdown",
      "source": [
        "##<b>Interpretation:</b>\n"
      ],
      "metadata": {
        "id": "iyQRpGNnWrzJ"
      }
    },
    {
      "cell_type": "markdown",
      "source": [
        "As is visible by the graph above, all the accumulated points have been divided by colour coding, into 5 different categories- <b>red, blue, green, yellow and cyan</b>.<br>\n",
        "1. <b>Red:</b> This is representative of the <b>Cluster 1</b> category of the estimate of the level of hazardousness of the astronomical bodies. This bodies characteristically contain particularly high relative velocities and low estimated diameters.<br>\n",
        "2. <b>Blue: </b>This is representative of the <b>Cluster 2</b> category of the estimate of the level of hazardousness of the astronomical bodies. This bodies characteristically contain particularly high relative velocities and high estimated diameters. <br>\n",
        "3. <b>Green:</b> This is representative of the <b>Cluster 3</b> category of the estimate of the level of hazardousness of the astronomical bodies. This bodies characteristically contain particularly low relative velocities and low estimated diameters.<br>\n",
        "4. <b>Yellow:</b> This is representative of the <b>Cluster 4</b> category of the estimate of the level of hazardousness of the astronomical bodies. This bodies characteristically contain particularly low relative velocities and high estimated diameters.<br>\n",
        "5. <b>Cyan: </b>These points throughout the graph indicate the centroids of each of the mentioned clusters. A centroid is typically an arithmetic mean of the points laid down in the region.<br>\n",
        "<br>From the above analysis, we can conclude that-<br>\n",
        "(a) The astronomical bodies entailed in <b>Cluster 2</b> category or with <b>Blue</b> colour are hazardous in nature for our planet<br>\n",
        "(b) The astronomical bodies entailed in <b>Cluster 3</b> category or with <b>Green</b> colour are not at all hazardous in nature for our planet<br>\n",
        "(c) The astronomical bodies entailed in <b>Cluster 1</b> and <b>Cluster 4</b> categories or with <b>Red</b> and <b>Yellow</b> colour are not as hazardous in nature as Cluster 1 for our planet<br>\n",
        "(d) We can calculate the estimated amount of hazardousness for a particular cluster group or a particular area of such points by the centroid provided (in <b> cyan</b>) in the graph."
      ],
      "metadata": {
        "id": "mGq-PuoVi-n-"
      }
    }
  ]
}
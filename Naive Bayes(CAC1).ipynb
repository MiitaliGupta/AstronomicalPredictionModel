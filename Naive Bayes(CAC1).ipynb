{
  "nbformat": 4,
  "nbformat_minor": 0,
  "metadata": {
    "colab": {
      "name": "2041153_CAC1_Q2.ipynb",
      "provenance": [],
      "authorship_tag": "ABX9TyPIgF5lqMnGpOfceFDPRsOS",
      "include_colab_link": true
    },
    "kernelspec": {
      "name": "python3",
      "display_name": "Python 3"
    },
    "language_info": {
      "name": "python"
    }
  },
  "cells": [
    {
      "cell_type": "markdown",
      "metadata": {
        "id": "view-in-github",
        "colab_type": "text"
      },
      "source": [
        "<a href=\"https://colab.research.google.com/github/MiitaliGupta/MachineLearning/blob/main/Naive%20Bayes(CAC1).ipynb\" target=\"_parent\"><img src=\"https://colab.research.google.com/assets/colab-badge.svg\" alt=\"Open In Colab\"/></a>"
      ]
    },
    {
      "cell_type": "markdown",
      "source": [
        "#Naive Bayes"
      ],
      "metadata": {
        "id": "w7PbMRK63pSp"
      }
    },
    {
      "cell_type": "markdown",
      "metadata": {
        "id": "LWd1UlMnhT2s"
      },
      "source": [
        "### Importing the libraries"
      ]
    },
    {
      "cell_type": "code",
      "metadata": {
        "id": "YvGPUQaHhXfL"
      },
      "source": [
        "import numpy as np\n",
        "import pandas as pd\n",
        "import sklearn\n"
      ],
      "execution_count": 170,
      "outputs": []
    },
    {
      "cell_type": "markdown",
      "metadata": {
        "id": "K1VMqkGvhc3-"
      },
      "source": [
        "### Reading the dataset"
      ]
    },
    {
      "cell_type": "code",
      "metadata": {
        "id": "M52QDmyzhh9s",
        "colab": {
          "base_uri": "https://localhost:8080/",
          "height": 424
        },
        "outputId": "805b8afe-9434-4ce4-e6db-304f00e97496"
      },
      "source": [
        "dataset = pd.read_csv('/content/NASA_OrbitingBodies.csv')\n",
        "\n",
        "x = dataset.iloc[:, [2, 3]].values\n",
        "y = dataset.iloc[:, 4].values\n",
        "\n",
        "dataset"
      ],
      "execution_count": 171,
      "outputs": [
        {
          "output_type": "execute_result",
          "data": {
            "text/plain": [
              "             Id                 Name  Estimated Diameter  Relative Velocity  \\\n",
              "0       2162635  162635 (2000 SS164)            2.679415       13569.249220   \n",
              "1       2277475    277475 (2005 WK4)            0.594347       73588.726660   \n",
              "2       2512244   512244 (2015 YE18)            1.614507      114258.692100   \n",
              "3       3596030          (2012 BV13)            0.215794       24764.303140   \n",
              "4       3667127          (2014 GE35)            0.570217       42737.733760   \n",
              "...         ...                  ...                 ...                ...   \n",
              "90831   3763337           (2016 VX1)            0.059435       52078.886690   \n",
              "90832   3837603           (2019 AD3)            0.037501       46114.605070   \n",
              "90833  54017201           (2020 JP3)            0.071456        7566.807732   \n",
              "90834  54115824           (2021 CN5)            0.016370       69199.154480   \n",
              "90835  54205447           (2021 TW7)            0.089133       27024.455550   \n",
              "\n",
              "       Hazardous  \n",
              "0          False  \n",
              "1           True  \n",
              "2          False  \n",
              "3          False  \n",
              "4           True  \n",
              "...          ...  \n",
              "90831      False  \n",
              "90832      False  \n",
              "90833      False  \n",
              "90834      False  \n",
              "90835      False  \n",
              "\n",
              "[90836 rows x 5 columns]"
            ],
            "text/html": [
              "\n",
              "  <div id=\"df-4268c72e-e6e7-4cda-8a04-bfec414edb3f\">\n",
              "    <div class=\"colab-df-container\">\n",
              "      <div>\n",
              "<style scoped>\n",
              "    .dataframe tbody tr th:only-of-type {\n",
              "        vertical-align: middle;\n",
              "    }\n",
              "\n",
              "    .dataframe tbody tr th {\n",
              "        vertical-align: top;\n",
              "    }\n",
              "\n",
              "    .dataframe thead th {\n",
              "        text-align: right;\n",
              "    }\n",
              "</style>\n",
              "<table border=\"1\" class=\"dataframe\">\n",
              "  <thead>\n",
              "    <tr style=\"text-align: right;\">\n",
              "      <th></th>\n",
              "      <th>Id</th>\n",
              "      <th>Name</th>\n",
              "      <th>Estimated Diameter</th>\n",
              "      <th>Relative Velocity</th>\n",
              "      <th>Hazardous</th>\n",
              "    </tr>\n",
              "  </thead>\n",
              "  <tbody>\n",
              "    <tr>\n",
              "      <th>0</th>\n",
              "      <td>2162635</td>\n",
              "      <td>162635 (2000 SS164)</td>\n",
              "      <td>2.679415</td>\n",
              "      <td>13569.249220</td>\n",
              "      <td>False</td>\n",
              "    </tr>\n",
              "    <tr>\n",
              "      <th>1</th>\n",
              "      <td>2277475</td>\n",
              "      <td>277475 (2005 WK4)</td>\n",
              "      <td>0.594347</td>\n",
              "      <td>73588.726660</td>\n",
              "      <td>True</td>\n",
              "    </tr>\n",
              "    <tr>\n",
              "      <th>2</th>\n",
              "      <td>2512244</td>\n",
              "      <td>512244 (2015 YE18)</td>\n",
              "      <td>1.614507</td>\n",
              "      <td>114258.692100</td>\n",
              "      <td>False</td>\n",
              "    </tr>\n",
              "    <tr>\n",
              "      <th>3</th>\n",
              "      <td>3596030</td>\n",
              "      <td>(2012 BV13)</td>\n",
              "      <td>0.215794</td>\n",
              "      <td>24764.303140</td>\n",
              "      <td>False</td>\n",
              "    </tr>\n",
              "    <tr>\n",
              "      <th>4</th>\n",
              "      <td>3667127</td>\n",
              "      <td>(2014 GE35)</td>\n",
              "      <td>0.570217</td>\n",
              "      <td>42737.733760</td>\n",
              "      <td>True</td>\n",
              "    </tr>\n",
              "    <tr>\n",
              "      <th>...</th>\n",
              "      <td>...</td>\n",
              "      <td>...</td>\n",
              "      <td>...</td>\n",
              "      <td>...</td>\n",
              "      <td>...</td>\n",
              "    </tr>\n",
              "    <tr>\n",
              "      <th>90831</th>\n",
              "      <td>3763337</td>\n",
              "      <td>(2016 VX1)</td>\n",
              "      <td>0.059435</td>\n",
              "      <td>52078.886690</td>\n",
              "      <td>False</td>\n",
              "    </tr>\n",
              "    <tr>\n",
              "      <th>90832</th>\n",
              "      <td>3837603</td>\n",
              "      <td>(2019 AD3)</td>\n",
              "      <td>0.037501</td>\n",
              "      <td>46114.605070</td>\n",
              "      <td>False</td>\n",
              "    </tr>\n",
              "    <tr>\n",
              "      <th>90833</th>\n",
              "      <td>54017201</td>\n",
              "      <td>(2020 JP3)</td>\n",
              "      <td>0.071456</td>\n",
              "      <td>7566.807732</td>\n",
              "      <td>False</td>\n",
              "    </tr>\n",
              "    <tr>\n",
              "      <th>90834</th>\n",
              "      <td>54115824</td>\n",
              "      <td>(2021 CN5)</td>\n",
              "      <td>0.016370</td>\n",
              "      <td>69199.154480</td>\n",
              "      <td>False</td>\n",
              "    </tr>\n",
              "    <tr>\n",
              "      <th>90835</th>\n",
              "      <td>54205447</td>\n",
              "      <td>(2021 TW7)</td>\n",
              "      <td>0.089133</td>\n",
              "      <td>27024.455550</td>\n",
              "      <td>False</td>\n",
              "    </tr>\n",
              "  </tbody>\n",
              "</table>\n",
              "<p>90836 rows × 5 columns</p>\n",
              "</div>\n",
              "      <button class=\"colab-df-convert\" onclick=\"convertToInteractive('df-4268c72e-e6e7-4cda-8a04-bfec414edb3f')\"\n",
              "              title=\"Convert this dataframe to an interactive table.\"\n",
              "              style=\"display:none;\">\n",
              "        \n",
              "  <svg xmlns=\"http://www.w3.org/2000/svg\" height=\"24px\"viewBox=\"0 0 24 24\"\n",
              "       width=\"24px\">\n",
              "    <path d=\"M0 0h24v24H0V0z\" fill=\"none\"/>\n",
              "    <path d=\"M18.56 5.44l.94 2.06.94-2.06 2.06-.94-2.06-.94-.94-2.06-.94 2.06-2.06.94zm-11 1L8.5 8.5l.94-2.06 2.06-.94-2.06-.94L8.5 2.5l-.94 2.06-2.06.94zm10 10l.94 2.06.94-2.06 2.06-.94-2.06-.94-.94-2.06-.94 2.06-2.06.94z\"/><path d=\"M17.41 7.96l-1.37-1.37c-.4-.4-.92-.59-1.43-.59-.52 0-1.04.2-1.43.59L10.3 9.45l-7.72 7.72c-.78.78-.78 2.05 0 2.83L4 21.41c.39.39.9.59 1.41.59.51 0 1.02-.2 1.41-.59l7.78-7.78 2.81-2.81c.8-.78.8-2.07 0-2.86zM5.41 20L4 18.59l7.72-7.72 1.47 1.35L5.41 20z\"/>\n",
              "  </svg>\n",
              "      </button>\n",
              "      \n",
              "  <style>\n",
              "    .colab-df-container {\n",
              "      display:flex;\n",
              "      flex-wrap:wrap;\n",
              "      gap: 12px;\n",
              "    }\n",
              "\n",
              "    .colab-df-convert {\n",
              "      background-color: #E8F0FE;\n",
              "      border: none;\n",
              "      border-radius: 50%;\n",
              "      cursor: pointer;\n",
              "      display: none;\n",
              "      fill: #1967D2;\n",
              "      height: 32px;\n",
              "      padding: 0 0 0 0;\n",
              "      width: 32px;\n",
              "    }\n",
              "\n",
              "    .colab-df-convert:hover {\n",
              "      background-color: #E2EBFA;\n",
              "      box-shadow: 0px 1px 2px rgba(60, 64, 67, 0.3), 0px 1px 3px 1px rgba(60, 64, 67, 0.15);\n",
              "      fill: #174EA6;\n",
              "    }\n",
              "\n",
              "    [theme=dark] .colab-df-convert {\n",
              "      background-color: #3B4455;\n",
              "      fill: #D2E3FC;\n",
              "    }\n",
              "\n",
              "    [theme=dark] .colab-df-convert:hover {\n",
              "      background-color: #434B5C;\n",
              "      box-shadow: 0px 1px 3px 1px rgba(0, 0, 0, 0.15);\n",
              "      filter: drop-shadow(0px 1px 2px rgba(0, 0, 0, 0.3));\n",
              "      fill: #FFFFFF;\n",
              "    }\n",
              "  </style>\n",
              "\n",
              "      <script>\n",
              "        const buttonEl =\n",
              "          document.querySelector('#df-4268c72e-e6e7-4cda-8a04-bfec414edb3f button.colab-df-convert');\n",
              "        buttonEl.style.display =\n",
              "          google.colab.kernel.accessAllowed ? 'block' : 'none';\n",
              "\n",
              "        async function convertToInteractive(key) {\n",
              "          const element = document.querySelector('#df-4268c72e-e6e7-4cda-8a04-bfec414edb3f');\n",
              "          const dataTable =\n",
              "            await google.colab.kernel.invokeFunction('convertToInteractive',\n",
              "                                                     [key], {});\n",
              "          if (!dataTable) return;\n",
              "\n",
              "          const docLinkHtml = 'Like what you see? Visit the ' +\n",
              "            '<a target=\"_blank\" href=https://colab.research.google.com/notebooks/data_table.ipynb>data table notebook</a>'\n",
              "            + ' to learn more about interactive tables.';\n",
              "          element.innerHTML = '';\n",
              "          dataTable['output_type'] = 'display_data';\n",
              "          await google.colab.output.renderOutput(dataTable, element);\n",
              "          const docLink = document.createElement('div');\n",
              "          docLink.innerHTML = docLinkHtml;\n",
              "          element.appendChild(docLink);\n",
              "        }\n",
              "      </script>\n",
              "    </div>\n",
              "  </div>\n",
              "  "
            ]
          },
          "metadata": {},
          "execution_count": 171
        }
      ]
    },
    {
      "cell_type": "code",
      "source": [
        "dataset.info()"
      ],
      "metadata": {
        "colab": {
          "base_uri": "https://localhost:8080/"
        },
        "id": "TUnu2yeGKrUG",
        "outputId": "08773a3a-97ba-41e4-d955-f524b1904fd6"
      },
      "execution_count": 187,
      "outputs": [
        {
          "output_type": "stream",
          "name": "stdout",
          "text": [
            "<class 'pandas.core.frame.DataFrame'>\n",
            "RangeIndex: 90836 entries, 0 to 90835\n",
            "Data columns (total 5 columns):\n",
            " #   Column              Non-Null Count  Dtype  \n",
            "---  ------              --------------  -----  \n",
            " 0   Id                  90836 non-null  int64  \n",
            " 1   Name                90836 non-null  object \n",
            " 2   Estimated Diameter  90836 non-null  float64\n",
            " 3   Relative Velocity   90836 non-null  float64\n",
            " 4   Hazardous           90836 non-null  bool   \n",
            "dtypes: bool(1), float64(2), int64(1), object(1)\n",
            "memory usage: 2.9+ MB\n"
          ]
        }
      ]
    },
    {
      "cell_type": "markdown",
      "source": [
        "####Printing x and y before encoding"
      ],
      "metadata": {
        "id": "o2XeKvd79GRO"
      }
    },
    {
      "cell_type": "code",
      "source": [
        "print(x)"
      ],
      "metadata": {
        "colab": {
          "base_uri": "https://localhost:8080/"
        },
        "id": "FWeC4Oz46DUu",
        "outputId": "f090ade7-d0f4-431c-ae6b-838987eef017"
      },
      "execution_count": 172,
      "outputs": [
        {
          "output_type": "stream",
          "name": "stdout",
          "text": [
            "[[2.67941497e+00 1.35692492e+04]\n",
            " [5.94346868e-01 7.35887267e+04]\n",
            " [1.61450717e+00 1.14258692e+05]\n",
            " ...\n",
            " [7.14562100e-02 7.56680773e+03]\n",
            " [1.63696720e-02 6.91991545e+04]\n",
            " [8.91332990e-02 2.70244555e+04]]\n"
          ]
        }
      ]
    },
    {
      "cell_type": "code",
      "source": [
        "print(y)"
      ],
      "metadata": {
        "colab": {
          "base_uri": "https://localhost:8080/"
        },
        "id": "lDBSNsIx68bO",
        "outputId": "1bf420ee-727e-4c26-c76f-d4079eca168d"
      },
      "execution_count": 173,
      "outputs": [
        {
          "output_type": "stream",
          "name": "stdout",
          "text": [
            "[False  True False ... False False False]\n"
          ]
        }
      ]
    },
    {
      "cell_type": "markdown",
      "source": [
        "**Encoding character values**"
      ],
      "metadata": {
        "id": "gqehSJxN_-OA"
      }
    },
    {
      "cell_type": "code",
      "source": [
        "from sklearn.preprocessing import LabelEncoder\n",
        "le = LabelEncoder()\n",
        "x[:,0] = le.fit_transform(x[:,0])\n",
        "x[:,1] = le.fit_transform(x[:,1])\n",
        "y= le.fit_transform(y)"
      ],
      "metadata": {
        "id": "j3J8YSQwAfg2"
      },
      "execution_count": 174,
      "outputs": []
    },
    {
      "cell_type": "markdown",
      "source": [
        "####Printing x and y after encoding"
      ],
      "metadata": {
        "id": "MdEGWvag9Wja"
      }
    },
    {
      "cell_type": "code",
      "source": [
        "print(x)"
      ],
      "metadata": {
        "colab": {
          "base_uri": "https://localhost:8080/"
        },
        "id": "-4o-V5cd7FkA",
        "outputId": "b6b2ef2d-d08c-4a3f-c920-695b393c8e8c"
      },
      "execution_count": 175,
      "outputs": [
        {
          "output_type": "stream",
          "name": "stdout",
          "text": [
            "[[ 1486.  3421.]\n",
            " [ 1158. 76978.]\n",
            " [ 1379. 89203.]\n",
            " ...\n",
            " [  630.   735.]\n",
            " [  261. 73736.]\n",
            " [  689. 20055.]]\n"
          ]
        }
      ]
    },
    {
      "cell_type": "code",
      "source": [
        "print(y)"
      ],
      "metadata": {
        "colab": {
          "base_uri": "https://localhost:8080/"
        },
        "id": "k8xBpJHA7H-i",
        "outputId": "3cca6050-d714-4f0e-ad5c-e77e7fa74b8c"
      },
      "execution_count": 176,
      "outputs": [
        {
          "output_type": "stream",
          "name": "stdout",
          "text": [
            "[0 1 0 ... 0 0 0]\n"
          ]
        }
      ]
    },
    {
      "cell_type": "markdown",
      "source": [
        "### Splitting the dataset into the Training set and Test set "
      ],
      "metadata": {
        "id": "QZVCZJLl5bYz"
      }
    },
    {
      "cell_type": "code",
      "source": [
        "from sklearn.model_selection import train_test_split  \n",
        "x_train, x_test, y_train, y_test = train_test_split(x, y, test_size = 0.30, random_state = 0) "
      ],
      "metadata": {
        "id": "xYnFBqzS437u"
      },
      "execution_count": 177,
      "outputs": []
    },
    {
      "cell_type": "markdown",
      "source": [
        "###Feature Scaling"
      ],
      "metadata": {
        "id": "dlebVmFN9xqk"
      }
    },
    {
      "cell_type": "code",
      "source": [
        "from sklearn.preprocessing import StandardScaler  \n",
        "sc = StandardScaler()  \n",
        "x_train = sc.fit_transform(x_train)  \n",
        "x_test = sc.transform(x_test)  "
      ],
      "metadata": {
        "id": "KgxZe6Bu91Jw"
      },
      "execution_count": 178,
      "outputs": []
    },
    {
      "cell_type": "code",
      "source": [
        "x_train"
      ],
      "metadata": {
        "colab": {
          "base_uri": "https://localhost:8080/"
        },
        "id": "cGyRzhaABBez",
        "outputId": "3508525d-3c6e-4c83-9de9-6c8098a7bc00"
      },
      "execution_count": 179,
      "outputs": [
        {
          "output_type": "execute_result",
          "data": {
            "text/plain": [
              "array([[-2.31140704, -0.90863812],\n",
              "       [-0.45877478,  0.29316646],\n",
              "       [-0.52329431, -0.91893473],\n",
              "       ...,\n",
              "       [-0.62160979,  0.52541212],\n",
              "       [ 0.34311083,  0.27718765],\n",
              "       [ 0.14340752, -0.33687141]])"
            ]
          },
          "metadata": {},
          "execution_count": 179
        }
      ]
    },
    {
      "cell_type": "markdown",
      "source": [
        "###Train Gaussian Naive Bayes classifier \n"
      ],
      "metadata": {
        "id": "3TDJiWSk-FPv"
      }
    },
    {
      "cell_type": "code",
      "source": [
        "from sklearn.naive_bayes import GaussianNB  \n",
        "classifier = GaussianNB()  \n",
        "classifier.fit(x_train, y_train) "
      ],
      "metadata": {
        "colab": {
          "base_uri": "https://localhost:8080/"
        },
        "id": "2MZ89YB5-CgP",
        "outputId": "adc31c59-ade0-49d3-acd1-756e57f1dc1d"
      },
      "execution_count": 180,
      "outputs": [
        {
          "output_type": "execute_result",
          "data": {
            "text/plain": [
              "GaussianNB()"
            ]
          },
          "metadata": {},
          "execution_count": 180
        }
      ]
    },
    {
      "cell_type": "markdown",
      "source": [
        "####Predict output for the test set and compare with the existing Y value"
      ],
      "metadata": {
        "id": "uNh77RSVFr7O"
      }
    },
    {
      "cell_type": "code",
      "source": [
        "y_pred = classifier.predict(x_test)\n",
        "print (y_pred)\n",
        "print (y_test)"
      ],
      "metadata": {
        "colab": {
          "base_uri": "https://localhost:8080/"
        },
        "id": "A6yB5w8HF7cS",
        "outputId": "f78b29e6-773b-4c0b-985b-c59194e72406"
      },
      "execution_count": 181,
      "outputs": [
        {
          "output_type": "stream",
          "name": "stdout",
          "text": [
            "[0 0 0 ... 0 0 0]\n",
            "[0 1 0 ... 0 0 0]\n"
          ]
        }
      ]
    },
    {
      "cell_type": "markdown",
      "source": [
        "###Accuracy Score"
      ],
      "metadata": {
        "id": "EZ-Q_z4m-Tq1"
      }
    },
    {
      "cell_type": "code",
      "source": [
        "from sklearn.metrics import confusion_matrix,accuracy_score\n",
        "\n",
        "ac = accuracy_score(y_test,y_pred)\n",
        "print (ac)"
      ],
      "metadata": {
        "colab": {
          "base_uri": "https://localhost:8080/"
        },
        "id": "70v437NR-vEE",
        "outputId": "1ba1def5-e6cb-4693-f782-7a482cc0aa61"
      },
      "execution_count": 182,
      "outputs": [
        {
          "output_type": "stream",
          "name": "stdout",
          "text": [
            "0.873399141315915\n"
          ]
        }
      ]
    },
    {
      "cell_type": "markdown",
      "source": [
        "###Confusion matrix / ROC"
      ],
      "metadata": {
        "id": "H3R_h8Is-Yt9"
      }
    },
    {
      "cell_type": "code",
      "source": [
        "from sklearn.metrics import confusion_matrix  \n",
        "\n",
        "cm=confusion_matrix(y_test,y_pred)\n",
        "print (cm)"
      ],
      "metadata": {
        "colab": {
          "base_uri": "https://localhost:8080/"
        },
        "id": "Yi7D8Nk__Vpx",
        "outputId": "d7a76746-3b95-4a81-d4c4-126c15d47cc1"
      },
      "execution_count": 183,
      "outputs": [
        {
          "output_type": "stream",
          "name": "stdout",
          "text": [
            "[[23219  1375]\n",
            " [ 2075   582]]\n"
          ]
        }
      ]
    },
    {
      "cell_type": "markdown",
      "source": [
        "###Visualization"
      ],
      "metadata": {
        "id": "6-f6K28t-cu6"
      }
    },
    {
      "cell_type": "markdown",
      "source": [
        "####Training Data"
      ],
      "metadata": {
        "id": "GFR4kZDiCAGf"
      }
    },
    {
      "cell_type": "code",
      "source": [
        "import matplotlib.pyplot as mtp \n",
        "from matplotlib.colors import ListedColormap  \n",
        "x_set, y_set = x_train, y_train  \n",
        "X1, X2 = np.meshgrid(np.arange(start = x_set[:, 0].min() - 1, stop = x_set[:, 0].max() + 1, step = 0.01),  \n",
        "                     np.arange(start = x_set[:, 1].min() - 1, stop = x_set[:, 1].max() + 1, step = 0.01))  \n",
        "mtp.contourf(X1, X2, classifier.predict(np.array([X1.ravel(), X2.ravel()]).T).reshape(X1.shape),alpha = 0.75, cmap = ListedColormap(('purple', 'yellow')))  \n",
        "mtp.xlim(X1.min(), X1.max())  \n",
        "mtp.ylim(X2.min(), X2.max())  \n",
        "for i, j in enumerate(np.unique(y_set)):  \n",
        "    mtp.scatter(x_set[y_set == j, 0], x_set[y_set == j, 1],color = ListedColormap(('purple', 'yellow'))(i), label = j)  \n",
        "mtp.title('Naive Bayes (Training set)')  \n",
        "mtp.xlabel('Esitmates Diameter')  \n",
        "mtp.ylabel('Estimated Velocity')  \n",
        "mtp.legend()  \n",
        "mtp.show() "
      ],
      "metadata": {
        "colab": {
          "base_uri": "https://localhost:8080/",
          "height": 295
        },
        "id": "ybizFNkK_8qQ",
        "outputId": "1d815454-7486-4624-ac1f-72485c6184cf"
      },
      "execution_count": 184,
      "outputs": [
        {
          "output_type": "display_data",
          "data": {
            "text/plain": [
              "<Figure size 432x288 with 1 Axes>"
            ],
            "image/png": "[encoded data removed]"
          },
          "metadata": {
            "needs_background": "light"
          }
        }
      ]
    },
    {
      "cell_type": "markdown",
      "source": [
        "####Test Data"
      ],
      "metadata": {
        "id": "nWaRAJf8CJ4X"
      }
    },
    {
      "cell_type": "code",
      "source": [
        "from matplotlib.colors import ListedColormap  \n",
        "x_set, y_set = x_test, y_test  \n",
        "X1, X2 = np.meshgrid(np.arange(start = x_set[:, 0].min() - 1, stop = x_set[:, 0].max() + 1, step = 0.01),  \n",
        "                     np.arange(start = x_set[:, 1].min() - 1, stop = x_set[:, 1].max() + 1, step = 0.01))  \n",
        "mtp.contourf(X1, X2, classifier.predict(np.array([X1.ravel(), X2.ravel()]).T).reshape(X1.shape),  \n",
        "             alpha = 0.75, cmap = ListedColormap(('purple', 'yellow')))  \n",
        "mtp.xlim(X1.min(), X1.max())  \n",
        "mtp.ylim(X2.min(), X2.max())  \n",
        "for i, j in enumerate(np.unique(y_set)):  \n",
        "    mtp.scatter(x_set[y_set == j, 0], x_set[y_set == j, 1],  \n",
        "                color = ListedColormap(('purple', 'yellow'))(i), label = j)  \n",
        "mtp.title('Naive Bayes (test set)')  \n",
        "mtp.xlabel('Esitmates Diameter')  \n",
        "mtp.ylabel('Estimated Velocity')  \n",
        "mtp.legend()  \n",
        "mtp.show() "
      ],
      "metadata": {
        "colab": {
          "base_uri": "https://localhost:8080/",
          "height": 295
        },
        "id": "GOJTRq54CMDS",
        "outputId": "26814e66-a359-4521-a0b9-69dc1bbefd01"
      },
      "execution_count": 185,
      "outputs": [
        {
          "output_type": "display_data",
          "data": {
            "text/plain": [
              "<Figure size 432x288 with 1 Axes>"
            ],
            "image/png": "[encoded data removed]"
          },
          "metadata": {
            "needs_background": "light"
          }
        }
      ]
    },
    {
      "cell_type": "markdown",
      "source": [
        "##Conclusion"
      ],
      "metadata": {
        "id": "MLCQ_aCn-gzu"
      }
    },
    {
      "cell_type": "markdown",
      "source": [
        "###DataSet\n",
        "To demonstrate Naive Bayes Classifier I have used a dataset from NASA which lists out few Earth orbiting bodies with their name,esitimated diameters and velocities. The size of the data set is 90836x5. Based on diameter and velocities of bodies, we predict if they is Hazardous to Earth or Not.\n",
        "\n",
        "\n",
        "###Encoding\n",
        "Since the Last column (i.e. Hazardous) is boolean in nature that's why we need to encode it to convert it into numeric.\n",
        "\n",
        "\n",
        "###Inference\n",
        "After Spliting, Scaling and Training we can see that the accuracy in results is 87.33% and Confusion matrix is [[23219  1375]\n",
        " [ 2075   582]] which shows that 1375+2075=3450 values out of 90836 were wrongly predicted.\n",
        "\n",
        "\n",
        "###Graph\n",
        "The yellow dots in both the Scatter plots represent all the hazardous orbiting bodies while the purple dots represent all the safe (non-hazardous) ones."
      ],
      "metadata": {
        "id": "tvMaaOYbE-eX"
      }
    }
  ]
}
{
  "nbformat": 4,
  "nbformat_minor": 0,
  "metadata": {
    "colab": {
      "name": "2041153_CAC1_Q1.ipynb",
      "provenance": [],
      "toc_visible": true,
      "authorship_tag": "ABX9TyPQve5USLAFcIfResGd7FTN",
      "include_colab_link": true
    },
    "kernelspec": {
      "name": "python3",
      "display_name": "Python 3"
    },
    "language_info": {
      "name": "python"
    }
  },
  "cells": [
    {
      "cell_type": "markdown",
      "metadata": {
        "id": "view-in-github",
        "colab_type": "text"
      },
      "source": [
        "<a href=\"https://colab.research.google.com/github/MiitaliGupta/MachineLearning/blob/main/KNN(with%20accuracy%20and%20error%20plots).ipynb\" target=\"_parent\"><img src=\"https://colab.research.google.com/assets/colab-badge.svg\" alt=\"Open In Colab\"/></a>"
      ]
    },
    {
      "cell_type": "markdown",
      "metadata": {
        "id": "LWd1UlMnhT2s"
      },
      "source": [
        "### Importing the libraries"
      ]
    },
    {
      "cell_type": "code",
      "metadata": {
        "id": "YvGPUQaHhXfL"
      },
      "source": [
        "import numpy as np\n",
        "import pandas as pd\n",
        "import matplotlib.pyplot as plt\n",
        "import sklearn\n",
        "import seaborn as sns\n"
      ],
      "execution_count": null,
      "outputs": []
    },
    {
      "cell_type": "markdown",
      "metadata": {
        "id": "K1VMqkGvhc3-"
      },
      "source": [
        "### Reading the dataset"
      ]
    },
    {
      "cell_type": "code",
      "metadata": {
        "id": "M52QDmyzhh9s",
        "colab": {
          "base_uri": "https://localhost:8080/",
          "height": 424
        },
        "outputId": "756cec49-4b01-4edb-9794-7fd957b75856"
      },
      "source": [
        "dataset = pd.read_csv('/content/NASA_OrbitingBodies.csv')\n",
        "\n",
        "x = dataset.iloc[:, [2, 3]].values\n",
        "y = dataset.iloc[:, 4].values\n",
        "\n",
        "dataset"
      ],
      "execution_count": null,
      "outputs": [
        {
          "output_type": "execute_result",
          "data": {
            "text/plain": [
              "             Id                 Name  Estimated Diameter  Relative Velocity  \\\n",
              "0       2162635  162635 (2000 SS164)            2.679415       13569.249220   \n",
              "1       2277475    277475 (2005 WK4)            0.594347       73588.726660   \n",
              "2       2512244   512244 (2015 YE18)            1.614507      114258.692100   \n",
              "3       3596030          (2012 BV13)            0.215794       24764.303140   \n",
              "4       3667127          (2014 GE35)            0.570217       42737.733760   \n",
              "...         ...                  ...                 ...                ...   \n",
              "90831   3763337           (2016 VX1)            0.059435       52078.886690   \n",
              "90832   3837603           (2019 AD3)            0.037501       46114.605070   \n",
              "90833  54017201           (2020 JP3)            0.071456        7566.807732   \n",
              "90834  54115824           (2021 CN5)            0.016370       69199.154480   \n",
              "90835  54205447           (2021 TW7)            0.089133       27024.455550   \n",
              "\n",
              "       Hazardous  \n",
              "0          False  \n",
              "1           True  \n",
              "2          False  \n",
              "3          False  \n",
              "4           True  \n",
              "...          ...  \n",
              "90831      False  \n",
              "90832      False  \n",
              "90833      False  \n",
              "90834      False  \n",
              "90835      False  \n",
              "\n",
              "[90836 rows x 5 columns]"
            ],
            "text/html": [
              "\n",
              "  <div id=\"df-86552acb-f865-4b06-96cf-d7e69a2afbb6\">\n",
              "    <div class=\"colab-df-container\">\n",
              "      <div>\n",
              "<style scoped>\n",
              "    .dataframe tbody tr th:only-of-type {\n",
              "        vertical-align: middle;\n",
              "    }\n",
              "\n",
              "    .dataframe tbody tr th {\n",
              "        vertical-align: top;\n",
              "    }\n",
              "\n",
              "    .dataframe thead th {\n",
              "        text-align: right;\n",
              "    }\n",
              "</style>\n",
              "<table border=\"1\" class=\"dataframe\">\n",
              "  <thead>\n",
              "    <tr style=\"text-align: right;\">\n",
              "      <th></th>\n",
              "      <th>Id</th>\n",
              "      <th>Name</th>\n",
              "      <th>Estimated Diameter</th>\n",
              "      <th>Relative Velocity</th>\n",
              "      <th>Hazardous</th>\n",
              "    </tr>\n",
              "  </thead>\n",
              "  <tbody>\n",
              "    <tr>\n",
              "      <th>0</th>\n",
              "      <td>2162635</td>\n",
              "      <td>162635 (2000 SS164)</td>\n",
              "      <td>2.679415</td>\n",
              "      <td>13569.249220</td>\n",
              "      <td>False</td>\n",
              "    </tr>\n",
              "    <tr>\n",
              "      <th>1</th>\n",
              "      <td>2277475</td>\n",
              "      <td>277475 (2005 WK4)</td>\n",
              "      <td>0.594347</td>\n",
              "      <td>73588.726660</td>\n",
              "      <td>True</td>\n",
              "    </tr>\n",
              "    <tr>\n",
              "      <th>2</th>\n",
              "      <td>2512244</td>\n",
              "      <td>512244 (2015 YE18)</td>\n",
              "      <td>1.614507</td>\n",
              "      <td>114258.692100</td>\n",
              "      <td>False</td>\n",
              "    </tr>\n",
              "    <tr>\n",
              "      <th>3</th>\n",
              "      <td>3596030</td>\n",
              "      <td>(2012 BV13)</td>\n",
              "      <td>0.215794</td>\n",
              "      <td>24764.303140</td>\n",
              "      <td>False</td>\n",
              "    </tr>\n",
              "    <tr>\n",
              "      <th>4</th>\n",
              "      <td>3667127</td>\n",
              "      <td>(2014 GE35)</td>\n",
              "      <td>0.570217</td>\n",
              "      <td>42737.733760</td>\n",
              "      <td>True</td>\n",
              "    </tr>\n",
              "    <tr>\n",
              "      <th>...</th>\n",
              "      <td>...</td>\n",
              "      <td>...</td>\n",
              "      <td>...</td>\n",
              "      <td>...</td>\n",
              "      <td>...</td>\n",
              "    </tr>\n",
              "    <tr>\n",
              "      <th>90831</th>\n",
              "      <td>3763337</td>\n",
              "      <td>(2016 VX1)</td>\n",
              "      <td>0.059435</td>\n",
              "      <td>52078.886690</td>\n",
              "      <td>False</td>\n",
              "    </tr>\n",
              "    <tr>\n",
              "      <th>90832</th>\n",
              "      <td>3837603</td>\n",
              "      <td>(2019 AD3)</td>\n",
              "      <td>0.037501</td>\n",
              "      <td>46114.605070</td>\n",
              "      <td>False</td>\n",
              "    </tr>\n",
              "    <tr>\n",
              "      <th>90833</th>\n",
              "      <td>54017201</td>\n",
              "      <td>(2020 JP3)</td>\n",
              "      <td>0.071456</td>\n",
              "      <td>7566.807732</td>\n",
              "      <td>False</td>\n",
              "    </tr>\n",
              "    <tr>\n",
              "      <th>90834</th>\n",
              "      <td>54115824</td>\n",
              "      <td>(2021 CN5)</td>\n",
              "      <td>0.016370</td>\n",
              "      <td>69199.154480</td>\n",
              "      <td>False</td>\n",
              "    </tr>\n",
              "    <tr>\n",
              "      <th>90835</th>\n",
              "      <td>54205447</td>\n",
              "      <td>(2021 TW7)</td>\n",
              "      <td>0.089133</td>\n",
              "      <td>27024.455550</td>\n",
              "      <td>False</td>\n",
              "    </tr>\n",
              "  </tbody>\n",
              "</table>\n",
              "<p>90836 rows × 5 columns</p>\n",
              "</div>\n",
              "      <button class=\"colab-df-convert\" onclick=\"convertToInteractive('df-86552acb-f865-4b06-96cf-d7e69a2afbb6')\"\n",
              "              title=\"Convert this dataframe to an interactive table.\"\n",
              "              style=\"display:none;\">\n",
              "        \n",
              "  <svg xmlns=\"http://www.w3.org/2000/svg\" height=\"24px\"viewBox=\"0 0 24 24\"\n",
              "       width=\"24px\">\n",
              "    <path d=\"M0 0h24v24H0V0z\" fill=\"none\"/>\n",
              "    <path d=\"M18.56 5.44l.94 2.06.94-2.06 2.06-.94-2.06-.94-.94-2.06-.94 2.06-2.06.94zm-11 1L8.5 8.5l.94-2.06 2.06-.94-2.06-.94L8.5 2.5l-.94 2.06-2.06.94zm10 10l.94 2.06.94-2.06 2.06-.94-2.06-.94-.94-2.06-.94 2.06-2.06.94z\"/><path d=\"M17.41 7.96l-1.37-1.37c-.4-.4-.92-.59-1.43-.59-.52 0-1.04.2-1.43.59L10.3 9.45l-7.72 7.72c-.78.78-.78 2.05 0 2.83L4 21.41c.39.39.9.59 1.41.59.51 0 1.02-.2 1.41-.59l7.78-7.78 2.81-2.81c.8-.78.8-2.07 0-2.86zM5.41 20L4 18.59l7.72-7.72 1.47 1.35L5.41 20z\"/>\n",
              "  </svg>\n",
              "      </button>\n",
              "      \n",
              "  <style>\n",
              "    .colab-df-container {\n",
              "      display:flex;\n",
              "      flex-wrap:wrap;\n",
              "      gap: 12px;\n",
              "    }\n",
              "\n",
              "    .colab-df-convert {\n",
              "      background-color: #E8F0FE;\n",
              "      border: none;\n",
              "      border-radius: 50%;\n",
              "      cursor: pointer;\n",
              "      display: none;\n",
              "      fill: #1967D2;\n",
              "      height: 32px;\n",
              "      padding: 0 0 0 0;\n",
              "      width: 32px;\n",
              "    }\n",
              "\n",
              "    .colab-df-convert:hover {\n",
              "      background-color: #E2EBFA;\n",
              "      box-shadow: 0px 1px 2px rgba(60, 64, 67, 0.3), 0px 1px 3px 1px rgba(60, 64, 67, 0.15);\n",
              "      fill: #174EA6;\n",
              "    }\n",
              "\n",
              "    [theme=dark] .colab-df-convert {\n",
              "      background-color: #3B4455;\n",
              "      fill: #D2E3FC;\n",
              "    }\n",
              "\n",
              "    [theme=dark] .colab-df-convert:hover {\n",
              "      background-color: #434B5C;\n",
              "      box-shadow: 0px 1px 3px 1px rgba(0, 0, 0, 0.15);\n",
              "      filter: drop-shadow(0px 1px 2px rgba(0, 0, 0, 0.3));\n",
              "      fill: #FFFFFF;\n",
              "    }\n",
              "  </style>\n",
              "\n",
              "      <script>\n",
              "        const buttonEl =\n",
              "          document.querySelector('#df-86552acb-f865-4b06-96cf-d7e69a2afbb6 button.colab-df-convert');\n",
              "        buttonEl.style.display =\n",
              "          google.colab.kernel.accessAllowed ? 'block' : 'none';\n",
              "\n",
              "        async function convertToInteractive(key) {\n",
              "          const element = document.querySelector('#df-86552acb-f865-4b06-96cf-d7e69a2afbb6');\n",
              "          const dataTable =\n",
              "            await google.colab.kernel.invokeFunction('convertToInteractive',\n",
              "                                                     [key], {});\n",
              "          if (!dataTable) return;\n",
              "\n",
              "          const docLinkHtml = 'Like what you see? Visit the ' +\n",
              "            '<a target=\"_blank\" href=https://colab.research.google.com/notebooks/data_table.ipynb>data table notebook</a>'\n",
              "            + ' to learn more about interactive tables.';\n",
              "          element.innerHTML = '';\n",
              "          dataTable['output_type'] = 'display_data';\n",
              "          await google.colab.output.renderOutput(dataTable, element);\n",
              "          const docLink = document.createElement('div');\n",
              "          docLink.innerHTML = docLinkHtml;\n",
              "          element.appendChild(docLink);\n",
              "        }\n",
              "      </script>\n",
              "    </div>\n",
              "  </div>\n",
              "  "
            ]
          },
          "metadata": {},
          "execution_count": 23
        }
      ]
    },
    {
      "cell_type": "markdown",
      "source": [
        "#Exploratory Data Analysis Methods"
      ],
      "metadata": {
        "id": "NdBY_indl4Mo"
      }
    },
    {
      "cell_type": "markdown",
      "source": [
        "##Scatter Plot"
      ],
      "metadata": {
        "id": "6wIJrBrnl95f"
      }
    },
    {
      "cell_type": "code",
      "source": [
        "dataset.plot.scatter(x='Estimated Diameter', y='Relative Velocity',s=150,c='yellowgreen')\n",
        "plt.show()\n"
      ],
      "metadata": {
        "colab": {
          "base_uri": "https://localhost:8080/",
          "height": 279
        },
        "id": "KgoC3qaymAqP",
        "outputId": "8e435567-2dea-419d-efa4-a5fd865cadf9"
      },
      "execution_count": null,
      "outputs": [
        {
          "output_type": "display_data",
          "data": {
            "text/plain": [
              "<Figure size 432x288 with 1 Axes>"
            ],
            "image/png": "[encoded data removed]"
          },
          "metadata": {
            "needs_background": "light"
          }
        }
      ]
    },
    {
      "cell_type": "markdown",
      "source": [
        "We can see that smaller the astromonical body higher the velocity it has, witha few outliers."
      ],
      "metadata": {
        "id": "yGtbZUo0nO9G"
      }
    },
    {
      "cell_type": "markdown",
      "source": [
        "##Bar Graph"
      ],
      "metadata": {
        "id": "vF7pmoJ8ncjn"
      }
    },
    {
      "cell_type": "code",
      "source": [
        "Type = pd.DataFrame(dataset.Hazardous.value_counts())\n",
        "x = Type.index\n",
        "y = Type.Hazardous\n",
        "plt.barh(x,y,color = ['g','r'])\n",
        "plt.xlabel('Number of Bodies')  \n",
        "plt.ylabel('Hazardous or Not')\n",
        "plt.show()"
      ],
      "metadata": {
        "colab": {
          "base_uri": "https://localhost:8080/",
          "height": 279
        },
        "id": "n06y1_ncngE9",
        "outputId": "c731b2f9-a003-41d7-c704-a1dcebd02efe"
      },
      "execution_count": null,
      "outputs": [
        {
          "output_type": "display_data",
          "data": {
            "text/plain": [
              "<Figure size 432x288 with 1 Axes>"
            ],
            "image/png": "[encoded data removed]"
          },
          "metadata": {
            "needs_background": "light"
          }
        }
      ]
    },
    {
      "cell_type": "markdown",
      "source": [
        "We can see that maximum(more than 80000) of astromonical bodies orbiting around Earth are non-hazardous while only few(around 8000) bodies are hazardous"
      ],
      "metadata": {
        "id": "tO-cmlfwrJu-"
      }
    },
    {
      "cell_type": "markdown",
      "source": [
        "#K-Nearest Neighbour"
      ],
      "metadata": {
        "id": "w7PbMRK63pSp"
      }
    },
    {
      "cell_type": "markdown",
      "metadata": {
        "id": "YvxIPVyMhmKp"
      },
      "source": [
        "## Splitting the dataset into the Training set and Test set"
      ]
    },
    {
      "cell_type": "code",
      "metadata": {
        "id": "AVzJWAXIhxoC"
      },
      "source": [
        "from sklearn.model_selection import train_test_split\n",
        "x_train, x_test, y_train, y_test = train_test_split(x, y, test_size = 0.3, random_state = 0)"
      ],
      "execution_count": null,
      "outputs": []
    },
    {
      "cell_type": "code",
      "metadata": {
        "id": "P3nS3-6r1i2B",
        "outputId": "f478eee1-53e3-49d4-a483-b6d4b1b9caae",
        "colab": {
          "base_uri": "https://localhost:8080/"
        }
      },
      "source": [
        "print(x_train)"
      ],
      "execution_count": null,
      "outputs": [
        {
          "output_type": "stream",
          "name": "stdout",
          "text": [
            "[[2.36613800e-03 2.79426101e+04]\n",
            " [6.51688380e-02 4.99203352e+04]\n",
            " [5.94346870e-02 2.77887620e+04]\n",
            " ...\n",
            " [5.17654480e-02 5.47838995e+04]\n",
            " [1.80318372e-01 4.95960633e+04]\n",
            " [1.36157002e-01 3.78558860e+04]]\n"
          ]
        }
      ]
    },
    {
      "cell_type": "code",
      "metadata": {
        "id": "8dpDLojm1mVG",
        "outputId": "9964b775-c795-4d28-c64e-5fb88bb58682",
        "colab": {
          "base_uri": "https://localhost:8080/"
        }
      },
      "source": [
        "print(y_train)"
      ],
      "execution_count": null,
      "outputs": [
        {
          "output_type": "stream",
          "name": "stdout",
          "text": [
            "[False False False ... False False False]\n"
          ]
        }
      ]
    },
    {
      "cell_type": "code",
      "metadata": {
        "id": "qbb7i0DH1qui",
        "outputId": "be893aa6-7353-40f2-c530-f033c5b9e1ce",
        "colab": {
          "base_uri": "https://localhost:8080/"
        }
      },
      "source": [
        "print(x_test)"
      ],
      "execution_count": null,
      "outputs": [
        {
          "output_type": "stream",
          "name": "stdout",
          "text": [
            "[[2.84472300e-02 6.26879764e+04]\n",
            " [4.11187571e-01 5.24438393e+04]\n",
            " [1.36157000e-02 2.52613776e+04]\n",
            " ...\n",
            " [3.11917671e-01 5.94679474e+04]\n",
            " [1.24176660e-02 3.79023638e+04]\n",
            " [4.30566240e-02 3.58693237e+04]]\n"
          ]
        }
      ]
    },
    {
      "cell_type": "code",
      "metadata": {
        "id": "kj1hnFAR1s5w",
        "outputId": "f6149569-2436-4711-d259-e3301658cfff",
        "colab": {
          "base_uri": "https://localhost:8080/"
        }
      },
      "source": [
        "print(y_test)"
      ],
      "execution_count": null,
      "outputs": [
        {
          "output_type": "stream",
          "name": "stdout",
          "text": [
            "[False  True False ... False False False]\n"
          ]
        }
      ]
    },
    {
      "cell_type": "markdown",
      "source": [
        "###Applying KNN for different values and displaying accurracy"
      ],
      "metadata": {
        "id": "KWxvDcWzTddO"
      }
    },
    {
      "cell_type": "code",
      "source": [
        "from sklearn.neighbors import KNeighborsClassifier\n",
        "from sklearn.metrics import classification_report,confusion_matrix\n",
        "from sklearn.model_selection import cross_val_score\n",
        "\n",
        "accuracy_rate = []\n",
        "error_rate = []\n",
        "\n",
        "# Will take some time\n",
        "for i in range(5,200,22):\n",
        "    \n",
        "    knn = KNeighborsClassifier(n_neighbors=i)\n",
        "    score=cross_val_score(knn,x,y,cv=10)\n",
        "    accuracy_rate.append(score.mean())\n",
        "    error_rate.append(1-score.mean())\n",
        "    print(\"K : \",i)\n",
        "    print(\"Accuracy rate : \",score.mean())\n",
        "    print()"
      ],
      "metadata": {
        "colab": {
          "base_uri": "https://localhost:8080/"
        },
        "id": "jBO1UZmcTitU",
        "outputId": "15499da2-069b-4618-c284-c2c9fe0821a6"
      },
      "execution_count": null,
      "outputs": [
        {
          "output_type": "stream",
          "name": "stdout",
          "text": [
            "K :  5\n",
            "Accuracy rate :  0.8917390021657019\n",
            "\n",
            "K :  27\n",
            "Accuracy rate :  0.9026377211714482\n",
            "\n",
            "K :  49\n",
            "Accuracy rate :  0.9026817558488567\n",
            "\n",
            "K :  71\n",
            "Accuracy rate :  0.9026817558488567\n",
            "\n",
            "K :  93\n",
            "Accuracy rate :  0.9026817558488567\n",
            "\n",
            "K :  115\n",
            "Accuracy rate :  0.9026817558488567\n",
            "\n",
            "K :  137\n",
            "Accuracy rate :  0.9026817558488567\n",
            "\n",
            "K :  159\n",
            "Accuracy rate :  0.9026817558488567\n",
            "\n",
            "K :  181\n",
            "Accuracy rate :  0.9026817558488567\n",
            "\n"
          ]
        }
      ]
    },
    {
      "cell_type": "markdown",
      "source": [
        "###Accuracy Visualisation"
      ],
      "metadata": {
        "id": "ooxvPOTQXi2M"
      }
    },
    {
      "cell_type": "code",
      "source": [
        "plt.figure(figsize=(10,6))\n",
        "plt.plot(range(5,200,22),accuracy_rate,color='blue', linestyle='dashed', marker='o',markerfacecolor='red', markersize=10)\n",
        "plt.title('Accuracy Rate vs. K Value')\n",
        "plt.xlabel('K')\n",
        "plt.ylabel('Accuracy Rate')"
      ],
      "metadata": {
        "colab": {
          "base_uri": "https://localhost:8080/",
          "height": 422
        },
        "id": "GOgP8mYpXm9B",
        "outputId": "79be4a49-d725-491e-c7bb-42178e2f31c1"
      },
      "execution_count": null,
      "outputs": [
        {
          "output_type": "execute_result",
          "data": {
            "text/plain": [
              "Text(0, 0.5, 'Accuracy Rate')"
            ]
          },
          "metadata": {},
          "execution_count": 9
        },
        {
          "output_type": "display_data",
          "data": {
            "text/plain": [
              "<Figure size 720x432 with 1 Axes>"
            ],
            "image/png": "[encoded data removed]"
          },
          "metadata": {
            "needs_background": "light"
          }
        }
      ]
    },
    {
      "cell_type": "markdown",
      "source": [
        "##Impact of Preprocessing"
      ],
      "metadata": {
        "id": "FVllsTyWZb0D"
      }
    },
    {
      "cell_type": "markdown",
      "source": [
        "###Preprocessing"
      ],
      "metadata": {
        "id": "hmQRKGHJZgFi"
      }
    },
    {
      "cell_type": "markdown",
      "source": [
        "**Encoding character values**"
      ],
      "metadata": {
        "id": "gqehSJxN_-OA"
      }
    },
    {
      "cell_type": "code",
      "source": [
        "from sklearn.preprocessing import LabelEncoder\n",
        "le = LabelEncoder()\n",
        "x[:,0] = le.fit_transform(x[:,0])\n",
        "x[:,1] = le.fit_transform(x[:,1])\n",
        "y= le.fit_transform(y)"
      ],
      "metadata": {
        "id": "j3J8YSQwAfg2"
      },
      "execution_count": null,
      "outputs": []
    },
    {
      "cell_type": "markdown",
      "source": [
        "###Feature Scaling"
      ],
      "metadata": {
        "id": "dlebVmFN9xqk"
      }
    },
    {
      "cell_type": "code",
      "source": [
        "from sklearn.preprocessing import StandardScaler  \n",
        "sc = StandardScaler()  \n",
        "x_train = sc.fit_transform(x_train)  \n",
        "x_test = sc.transform(x_test)  "
      ],
      "metadata": {
        "id": "KgxZe6Bu91Jw"
      },
      "execution_count": null,
      "outputs": []
    },
    {
      "cell_type": "markdown",
      "source": [
        "###KNN after Preprocessing"
      ],
      "metadata": {
        "id": "sGvgIHUAaqin"
      }
    },
    {
      "cell_type": "code",
      "source": [
        "from sklearn.neighbors import KNeighborsClassifier\n",
        "from sklearn.metrics import classification_report,confusion_matrix\n",
        "from sklearn.model_selection import cross_val_score\n",
        "\n",
        "accuracy_rate = []\n",
        "error_rate = []\n",
        "\n",
        "# Will take some time\n",
        "for i in range(5,200,22):\n",
        "    \n",
        "    knn = KNeighborsClassifier(n_neighbors=i)\n",
        "    score=cross_val_score(knn,x,y,cv=10)\n",
        "    accuracy_rate.append(score.mean())\n",
        "    error_rate.append(1-score.mean())\n",
        "    print(\"K : \",i)\n",
        "    print(\"Accuracy rate : \",score.mean())\n",
        "    print()"
      ],
      "metadata": {
        "colab": {
          "base_uri": "https://localhost:8080/"
        },
        "outputId": "f7fcb107-6e82-4606-8fda-49e45bc179e2",
        "id": "TqlNFYhOaf05"
      },
      "execution_count": null,
      "outputs": [
        {
          "output_type": "stream",
          "name": "stdout",
          "text": [
            "K :  5\n",
            "Accuracy rate :  0.8837357562065347\n",
            "\n",
            "K :  27\n",
            "Accuracy rate :  0.9005570793309685\n",
            "\n",
            "K :  49\n",
            "Accuracy rate :  0.9023955358995879\n",
            "\n",
            "K :  71\n",
            "Accuracy rate :  0.9026817570608314\n",
            "\n",
            "K :  93\n",
            "Accuracy rate :  0.9026377211714482\n",
            "\n",
            "K :  115\n",
            "Accuracy rate :  0.9026817558488567\n",
            "\n",
            "K :  137\n",
            "Accuracy rate :  0.9026817558488567\n",
            "\n",
            "K :  159\n",
            "Accuracy rate :  0.9026817558488567\n",
            "\n",
            "K :  181\n",
            "Accuracy rate :  0.9026817558488567\n",
            "\n"
          ]
        }
      ]
    },
    {
      "cell_type": "markdown",
      "source": [
        "###Accuracy Visualisation after Preprocessing"
      ],
      "metadata": {
        "id": "XQfGV4Ykaf1E"
      }
    },
    {
      "cell_type": "code",
      "source": [
        "plt.figure(figsize=(10,6))\n",
        "plt.plot(range(5,200,22),accuracy_rate,color='blue', linestyle='dashed', marker='o',markerfacecolor='red', markersize=10)\n",
        "plt.title('Accuracy Rate vs. K Value')\n",
        "plt.xlabel('K')\n",
        "plt.ylabel('Accuracy Rate')"
      ],
      "metadata": {
        "colab": {
          "base_uri": "https://localhost:8080/",
          "height": 422
        },
        "outputId": "95084eae-6a9c-4bed-aecb-cb7db8c33e15",
        "id": "mGKiBOVXaf1E"
      },
      "execution_count": null,
      "outputs": [
        {
          "output_type": "execute_result",
          "data": {
            "text/plain": [
              "Text(0, 0.5, 'Accuracy Rate')"
            ]
          },
          "metadata": {},
          "execution_count": 13
        },
        {
          "output_type": "display_data",
          "data": {
            "text/plain": [
              "<Figure size 720x432 with 1 Axes>"
            ],
            "image/png": "[encoded data removed]"
          },
          "metadata": {
            "needs_background": "light"
          }
        }
      ]
    },
    {
      "cell_type": "markdown",
      "source": [
        "##Training and Testing Error"
      ],
      "metadata": {
        "id": "QwZepBkhbG41"
      }
    },
    {
      "cell_type": "markdown",
      "source": [
        "###Training Error"
      ],
      "metadata": {
        "id": "ZXtznqrKbUDR"
      }
    },
    {
      "cell_type": "code",
      "source": [
        "from sklearn.neighbors import KNeighborsClassifier\n",
        "from sklearn.metrics import classification_report,confusion_matrix\n",
        "from sklearn.model_selection import cross_val_score\n",
        "\n",
        "error_rate = []\n",
        "\n",
        "# Will take some time\n",
        "for i in range(5,200,22):\n",
        "    \n",
        "    knn = KNeighborsClassifier(n_neighbors=i)\n",
        "    knn.fit(x_train, y_train) \n",
        "    score=cross_val_score(knn,x_train,y_train,cv=10)\n",
        "    error_rate.append(1-score.mean())\n",
        "    print(\"K : \",i)\n",
        "    print(\"Error rate : \",1-score.mean())\n",
        "    print()"
      ],
      "metadata": {
        "colab": {
          "base_uri": "https://localhost:8080/"
        },
        "id": "ZRwiuJJLbRF3",
        "outputId": "84dbbafc-93d7-4187-ff6e-709414ddc091"
      },
      "execution_count": null,
      "outputs": [
        {
          "output_type": "stream",
          "name": "stdout",
          "text": [
            "K :  5\n",
            "Error rate :  0.11284113027281717\n",
            "\n",
            "K :  27\n",
            "Error rate :  0.09988204950705326\n",
            "\n",
            "K :  49\n",
            "Error rate :  0.09824645350856476\n",
            "\n",
            "K :  71\n",
            "Error rate :  0.09750729411804271\n",
            "\n",
            "K :  93\n",
            "Error rate :  0.09735000948046135\n",
            "\n",
            "K :  115\n",
            "Error rate :  0.09738146838668071\n",
            "\n",
            "K :  137\n",
            "Error rate :  0.09727137334511782\n",
            "\n",
            "K :  159\n",
            "Error rate :  0.09722419364261481\n",
            "\n",
            "K :  181\n",
            "Error rate :  0.09725564265531861\n",
            "\n"
          ]
        }
      ]
    },
    {
      "cell_type": "code",
      "source": [
        "#Predicting the train set result  \n",
        "y_pred= knn.predict(x_train)  "
      ],
      "metadata": {
        "id": "UsRfIV4Mehv7"
      },
      "execution_count": null,
      "outputs": []
    },
    {
      "cell_type": "markdown",
      "source": [
        "###Training Error Visualisation"
      ],
      "metadata": {
        "id": "hjTED5lTboxy"
      }
    },
    {
      "cell_type": "code",
      "source": [
        "plt.figure(figsize=(10,6))\n",
        "plt.plot(range(5,200,22),error_rate,color='blue', linestyle='dashed', marker='o',markerfacecolor='red', markersize=10)\n",
        "plt.title('Error Rate vs. K Value')\n",
        "plt.xlabel('K')\n",
        "plt.ylabel('Error Rate')"
      ],
      "metadata": {
        "colab": {
          "base_uri": "https://localhost:8080/",
          "height": 422
        },
        "id": "dC-hl4Axb7eS",
        "outputId": "18890734-6459-44d3-a4dd-02914a410b88"
      },
      "execution_count": null,
      "outputs": [
        {
          "output_type": "execute_result",
          "data": {
            "text/plain": [
              "Text(0, 0.5, 'Error Rate')"
            ]
          },
          "metadata": {},
          "execution_count": 16
        },
        {
          "output_type": "display_data",
          "data": {
            "text/plain": [
              "<Figure size 720x432 with 1 Axes>"
            ],
            "image/png": "[encoded data removed]"
          },
          "metadata": {
            "needs_background": "light"
          }
        }
      ]
    },
    {
      "cell_type": "markdown",
      "source": [
        "###Testing Error"
      ],
      "metadata": {
        "id": "CyUbuJFGbXe1"
      }
    },
    {
      "cell_type": "code",
      "source": [
        "from sklearn.neighbors import KNeighborsClassifier\n",
        "from sklearn.metrics import classification_report,confusion_matrix\n",
        "from sklearn.model_selection import cross_val_score\n",
        "\n",
        "error_rate = []\n",
        "\n",
        "# Will take some time\n",
        "for i in range(5,200,22):\n",
        "    \n",
        "    knn = KNeighborsClassifier(n_neighbors=i)\n",
        "    knn.fit(x_test, y_test) \n",
        "    score=cross_val_score(knn,x_test,y_test,cv=10)\n",
        "    error_rate.append(1-score.mean())\n",
        "    print(\"K : \",i)\n",
        "    print(\"Error rate : \",1-score.mean())\n",
        "    print()"
      ],
      "metadata": {
        "colab": {
          "base_uri": "https://localhost:8080/"
        },
        "id": "7EkLgSW-cIvh",
        "outputId": "45ba3340-2c97-4d23-e827-55152c17751e"
      },
      "execution_count": null,
      "outputs": [
        {
          "output_type": "stream",
          "name": "stdout",
          "text": [
            "K :  5\n",
            "Error rate :  0.11331687386835565\n",
            "\n",
            "K :  27\n",
            "Error rate :  0.10058348085375624\n",
            "\n",
            "K :  49\n",
            "Error rate :  0.09874863193037486\n",
            "\n",
            "K :  71\n",
            "Error rate :  0.09805141114783233\n",
            "\n",
            "K :  93\n",
            "Error rate :  0.09783126804741293\n",
            "\n",
            "K :  115\n",
            "Error rate :  0.09764779527082068\n",
            "\n",
            "K :  137\n",
            "Error rate :  0.09750100627999492\n",
            "\n",
            "K :  159\n",
            "Error rate :  0.09750100627999492\n",
            "\n",
            "K :  181\n",
            "Error rate :  0.09750100627999492\n",
            "\n"
          ]
        }
      ]
    },
    {
      "cell_type": "code",
      "source": [
        "#Predicting the test set result  \n",
        "y_pred= knn.predict(x_test)  "
      ],
      "metadata": {
        "id": "aGC22h4odfDf"
      },
      "execution_count": null,
      "outputs": []
    },
    {
      "cell_type": "markdown",
      "source": [
        "###Testing Error Visualisation"
      ],
      "metadata": {
        "id": "wPcmaiRubxwp"
      }
    },
    {
      "cell_type": "code",
      "source": [
        "plt.figure(figsize=(10,6))\n",
        "plt.plot(range(5,200,22),error_rate,color='blue', linestyle='dashed', marker='o',markerfacecolor='red', markersize=10)\n",
        "plt.title('Error Rate vs. K Value')\n",
        "plt.xlabel('K')\n",
        "plt.ylabel('Error Rate')"
      ],
      "metadata": {
        "colab": {
          "base_uri": "https://localhost:8080/",
          "height": 422
        },
        "id": "Jaiyys5UcPU5",
        "outputId": "1c7dc299-cf66-4bdb-c2bd-8185bfce5cd9"
      },
      "execution_count": null,
      "outputs": [
        {
          "output_type": "execute_result",
          "data": {
            "text/plain": [
              "Text(0, 0.5, 'Error Rate')"
            ]
          },
          "metadata": {},
          "execution_count": 19
        },
        {
          "output_type": "display_data",
          "data": {
            "text/plain": [
              "<Figure size 720x432 with 1 Axes>"
            ],
            "image/png": "[encoded data removed]"
          },
          "metadata": {
            "needs_background": "light"
          }
        }
      ]
    },
    {
      "cell_type": "markdown",
      "source": [
        "##Visualising KNN"
      ],
      "metadata": {
        "id": "tmksluN0cmqQ"
      }
    },
    {
      "cell_type": "code",
      "source": [
        "# import matplotlib.pyplot as mtp \n",
        "# from matplotlib.colors import ListedColormap \n",
        "\n",
        "# x_set, y_set = x_test, y_test  \n",
        "# x1, x2 = np.meshgrid(np.arange(start = x_set[:, 0].min() - 1, stop = x_set[:, 0].max() + 1, step  =0.01),  \n",
        "# np.arange(start = x_set[:, 1].min() - 1, stop = x_set[:, 1].max() + 1, step = 0.01))  \n",
        "# mtp.contourf(x1, x2, knn.predict(np.array([x1.ravel(), x2.ravel()]).T).reshape(x1.shape),  \n",
        "# alpha = 0.75, cmap = ListedColormap(('red','green' )))  \n",
        "# mtp.xlim(x1.min(), x1.max())  \n",
        "# mtp.ylim(x2.min(), x2.max())  \n",
        "# for i, j in enumerate(np.unique(y_set)):  \n",
        "#     mtp.scatter(x_set[y_set == j, 0], x_set[y_set == j, 1],  \n",
        "#         c = ListedColormap(('red', 'green'))(i), label = j)  \n",
        "# mtp.title('K-NN Algorithm (Training set)')  \n",
        "# mtp.xlabel('Age')  \n",
        "# mtp.ylabel('Estimated Salary')  \n",
        "# mtp.legend()  \n",
        "# mtp.show()  "
      ],
      "metadata": {
        "id": "-lYJqiZkcq2C"
      },
      "execution_count": null,
      "outputs": []
    },
    {
      "cell_type": "markdown",
      "metadata": {
        "id": "h4Hwj34ziWQW"
      },
      "source": [
        "## Making the Confusion Matrix"
      ]
    },
    {
      "cell_type": "code",
      "metadata": {
        "id": "D6bpZwUiiXic",
        "outputId": "ea769c0a-b5d8-460d-f3b0-1684b7c35872",
        "colab": {
          "base_uri": "https://localhost:8080/"
        }
      },
      "source": [
        "from sklearn.metrics import confusion_matrix, accuracy_score\n",
        "cm = confusion_matrix(y_test, y_pred)\n",
        "print(cm)\n",
        "accuracy_score(y_test, y_pred)"
      ],
      "execution_count": null,
      "outputs": [
        {
          "output_type": "stream",
          "name": "stdout",
          "text": [
            "[[24594     0]\n",
            " [ 2657     0]]\n"
          ]
        },
        {
          "output_type": "execute_result",
          "data": {
            "text/plain": [
              "0.9024989908627207"
            ]
          },
          "metadata": {},
          "execution_count": 21
        }
      ]
    },
    {
      "cell_type": "markdown",
      "source": [
        "##Conclusion"
      ],
      "metadata": {
        "id": "MLCQ_aCn-gzu"
      }
    },
    {
      "cell_type": "markdown",
      "source": [
        "###DataSet\n",
        "\n",
        "To demonstrate KNN Classifier I have used a dataset from NASA which lists out few Earth orbiting bodies with their name,esitimated diameters and velocities. The size of the data set is 90836x5. Based on diameter and velocities of bodies, we predict if they is Hazardous to Earth or Not.\n",
        "\n",
        "###Accuracy Rate and Error Rate\n",
        "\n",
        "From the graph is it clear that the both accuracy and error rate of the prediction stabilizes after a certain value of K\n",
        "\n",
        "###Effect of Preprocessing\n",
        "\n",
        "From the graph we can easily see how after preprocessing the accuracy of the graph increases and shows us few values prediction accuracies which were not earlier visible\n",
        "\n",
        "\n",
        "###Inference\n",
        "\n",
        "After Spliting, Scaling and Training we can see that the accuracy in results is 90.25% and Confusion matrix is [[24594     0] [ 2657     0]] which shows that 0+2657=2657 values out of 90836 were wrongly predicted."
      ],
      "metadata": {
        "id": "tvMaaOYbE-eX"
      }
    }
  ]
}
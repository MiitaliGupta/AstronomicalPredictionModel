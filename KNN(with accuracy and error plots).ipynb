{
  "nbformat": 4,
  "nbformat_minor": 0,
  "metadata": {
    "colab": {
      "name": "2041153_CAC1_Q1.ipynb",
      "provenance": [],
      "authorship_tag": "ABX9TyNNSbWuEs1zSMXFcYgY8c7P",
      "include_colab_link": true
    },
    "kernelspec": {
      "name": "python3",
      "display_name": "Python 3"
    },
    "language_info": {
      "name": "python"
    }
  },
  "cells": [
    {
      "cell_type": "markdown",
      "metadata": {
        "id": "view-in-github",
        "colab_type": "text"
      },
      "source": [
        "<a href=\"https://colab.research.google.com/github/MiitaliGupta/MachineLearning/blob/main/KNN(with%20accuracy%20and%20error%20plots).ipynb\" target=\"_parent\"><img src=\"https://colab.research.google.com/assets/colab-badge.svg\" alt=\"Open In Colab\"/></a>"
      ]
    },
    {
      "cell_type": "markdown",
      "metadata": {
        "id": "LWd1UlMnhT2s"
      },
      "source": [
        "### Importing the libraries"
      ]
    },
    {
      "cell_type": "code",
      "metadata": {
        "id": "YvGPUQaHhXfL"
      },
      "source": [
        "import numpy as np\n",
        "import pandas as pd\n",
        "import matplotlib.pyplot as plt\n",
        "import sklearn\n",
        "import seaborn as sns\n"
      ],
      "execution_count": null,
      "outputs": []
    },
    {
      "cell_type": "markdown",
      "metadata": {
        "id": "K1VMqkGvhc3-"
      },
      "source": [
        "### Reading the dataset"
      ]
    },
    {
      "cell_type": "code",
      "metadata": {
        "id": "M52QDmyzhh9s",
        "colab": {
          "base_uri": "https://localhost:8080/",
          "height": 424
        },
        "outputId": "e0c324fd-c676-4763-f077-31667047f282"
      },
      "source": [
        "dataset = pd.read_csv('/content/NASA_OrbitingBodies.csv')\n",
        "\n",
        "# Dataset Description\n",
        "# https://www.kaggle.com/datasets/nasaresearcher/asteroid-features-for-hazardous-prediction-nasa\n",
        "\n",
        "x = dataset.iloc[:, [3, 5]].values\n",
        "y = dataset.iloc[:, 6].values\n",
        "\n",
        "dataset"
      ],
      "execution_count": null,
      "outputs": [
        {
          "output_type": "execute_result",
          "data": {
            "text/plain": [
              "           Id                 Name  Estimated Diameter Diameter Category  \\\n",
              "0     2162635  162635 (2000 SS164)            2.679415          Too High   \n",
              "1     2277475    277475 (2005 WK4)            0.594347          Too High   \n",
              "2     2512244   512244 (2015 YE18)            1.614507          Too High   \n",
              "3     3596030          (2012 BV13)            0.215794              High   \n",
              "4     3667127          (2014 GE35)            0.570217          Too High   \n",
              "...       ...                  ...                 ...               ...   \n",
              "1495  3623682          (2013 AF53)            0.029788           Too Low   \n",
              "1496  3789124           (2017 VD2)            0.297879              High   \n",
              "1497  3842597           (2019 KN2)            0.022596           Too Low   \n",
              "1498  3879292           (2019 UN2)            0.054205               Low   \n",
              "1499  2088264    88264 (2001 KN20)            2.312278          Too High   \n",
              "\n",
              "      Relative Velocity Velocity Cayegory  Hazardous  \n",
              "0           13569.24922           Too Low      False  \n",
              "1           73588.72666          Too High       True  \n",
              "2          114258.69210          Too High      False  \n",
              "3           24764.30314           Too Low      False  \n",
              "4           42737.73376               Low       True  \n",
              "...                 ...               ...        ...  \n",
              "1495        29246.86613           Too Low      False  \n",
              "1496        53337.88160              High      False  \n",
              "1497        49376.05522              High      False  \n",
              "1498        27317.89329           Too Low      False  \n",
              "1499        36389.89484               Low      False  \n",
              "\n",
              "[1500 rows x 7 columns]"
            ],
            "text/html": [
              "\n",
              "  <div id=\"df-35942aad-c6c1-418a-acb2-999458ebec73\">\n",
              "    <div class=\"colab-df-container\">\n",
              "      <div>\n",
              "<style scoped>\n",
              "    .dataframe tbody tr th:only-of-type {\n",
              "        vertical-align: middle;\n",
              "    }\n",
              "\n",
              "    .dataframe tbody tr th {\n",
              "        vertical-align: top;\n",
              "    }\n",
              "\n",
              "    .dataframe thead th {\n",
              "        text-align: right;\n",
              "    }\n",
              "</style>\n",
              "<table border=\"1\" class=\"dataframe\">\n",
              "  <thead>\n",
              "    <tr style=\"text-align: right;\">\n",
              "      <th></th>\n",
              "      <th>Id</th>\n",
              "      <th>Name</th>\n",
              "      <th>Estimated Diameter</th>\n",
              "      <th>Diameter Category</th>\n",
              "      <th>Relative Velocity</th>\n",
              "      <th>Velocity Cayegory</th>\n",
              "      <th>Hazardous</th>\n",
              "    </tr>\n",
              "  </thead>\n",
              "  <tbody>\n",
              "    <tr>\n",
              "      <th>0</th>\n",
              "      <td>2162635</td>\n",
              "      <td>162635 (2000 SS164)</td>\n",
              "      <td>2.679415</td>\n",
              "      <td>Too High</td>\n",
              "      <td>13569.24922</td>\n",
              "      <td>Too Low</td>\n",
              "      <td>False</td>\n",
              "    </tr>\n",
              "    <tr>\n",
              "      <th>1</th>\n",
              "      <td>2277475</td>\n",
              "      <td>277475 (2005 WK4)</td>\n",
              "      <td>0.594347</td>\n",
              "      <td>Too High</td>\n",
              "      <td>73588.72666</td>\n",
              "      <td>Too High</td>\n",
              "      <td>True</td>\n",
              "    </tr>\n",
              "    <tr>\n",
              "      <th>2</th>\n",
              "      <td>2512244</td>\n",
              "      <td>512244 (2015 YE18)</td>\n",
              "      <td>1.614507</td>\n",
              "      <td>Too High</td>\n",
              "      <td>114258.69210</td>\n",
              "      <td>Too High</td>\n",
              "      <td>False</td>\n",
              "    </tr>\n",
              "    <tr>\n",
              "      <th>3</th>\n",
              "      <td>3596030</td>\n",
              "      <td>(2012 BV13)</td>\n",
              "      <td>0.215794</td>\n",
              "      <td>High</td>\n",
              "      <td>24764.30314</td>\n",
              "      <td>Too Low</td>\n",
              "      <td>False</td>\n",
              "    </tr>\n",
              "    <tr>\n",
              "      <th>4</th>\n",
              "      <td>3667127</td>\n",
              "      <td>(2014 GE35)</td>\n",
              "      <td>0.570217</td>\n",
              "      <td>Too High</td>\n",
              "      <td>42737.73376</td>\n",
              "      <td>Low</td>\n",
              "      <td>True</td>\n",
              "    </tr>\n",
              "    <tr>\n",
              "      <th>...</th>\n",
              "      <td>...</td>\n",
              "      <td>...</td>\n",
              "      <td>...</td>\n",
              "      <td>...</td>\n",
              "      <td>...</td>\n",
              "      <td>...</td>\n",
              "      <td>...</td>\n",
              "    </tr>\n",
              "    <tr>\n",
              "      <th>1495</th>\n",
              "      <td>3623682</td>\n",
              "      <td>(2013 AF53)</td>\n",
              "      <td>0.029788</td>\n",
              "      <td>Too Low</td>\n",
              "      <td>29246.86613</td>\n",
              "      <td>Too Low</td>\n",
              "      <td>False</td>\n",
              "    </tr>\n",
              "    <tr>\n",
              "      <th>1496</th>\n",
              "      <td>3789124</td>\n",
              "      <td>(2017 VD2)</td>\n",
              "      <td>0.297879</td>\n",
              "      <td>High</td>\n",
              "      <td>53337.88160</td>\n",
              "      <td>High</td>\n",
              "      <td>False</td>\n",
              "    </tr>\n",
              "    <tr>\n",
              "      <th>1497</th>\n",
              "      <td>3842597</td>\n",
              "      <td>(2019 KN2)</td>\n",
              "      <td>0.022596</td>\n",
              "      <td>Too Low</td>\n",
              "      <td>49376.05522</td>\n",
              "      <td>High</td>\n",
              "      <td>False</td>\n",
              "    </tr>\n",
              "    <tr>\n",
              "      <th>1498</th>\n",
              "      <td>3879292</td>\n",
              "      <td>(2019 UN2)</td>\n",
              "      <td>0.054205</td>\n",
              "      <td>Low</td>\n",
              "      <td>27317.89329</td>\n",
              "      <td>Too Low</td>\n",
              "      <td>False</td>\n",
              "    </tr>\n",
              "    <tr>\n",
              "      <th>1499</th>\n",
              "      <td>2088264</td>\n",
              "      <td>88264 (2001 KN20)</td>\n",
              "      <td>2.312278</td>\n",
              "      <td>Too High</td>\n",
              "      <td>36389.89484</td>\n",
              "      <td>Low</td>\n",
              "      <td>False</td>\n",
              "    </tr>\n",
              "  </tbody>\n",
              "</table>\n",
              "<p>1500 rows × 7 columns</p>\n",
              "</div>\n",
              "      <button class=\"colab-df-convert\" onclick=\"convertToInteractive('df-35942aad-c6c1-418a-acb2-999458ebec73')\"\n",
              "              title=\"Convert this dataframe to an interactive table.\"\n",
              "              style=\"display:none;\">\n",
              "        \n",
              "  <svg xmlns=\"http://www.w3.org/2000/svg\" height=\"24px\"viewBox=\"0 0 24 24\"\n",
              "       width=\"24px\">\n",
              "    <path d=\"M0 0h24v24H0V0z\" fill=\"none\"/>\n",
              "    <path d=\"M18.56 5.44l.94 2.06.94-2.06 2.06-.94-2.06-.94-.94-2.06-.94 2.06-2.06.94zm-11 1L8.5 8.5l.94-2.06 2.06-.94-2.06-.94L8.5 2.5l-.94 2.06-2.06.94zm10 10l.94 2.06.94-2.06 2.06-.94-2.06-.94-.94-2.06-.94 2.06-2.06.94z\"/><path d=\"M17.41 7.96l-1.37-1.37c-.4-.4-.92-.59-1.43-.59-.52 0-1.04.2-1.43.59L10.3 9.45l-7.72 7.72c-.78.78-.78 2.05 0 2.83L4 21.41c.39.39.9.59 1.41.59.51 0 1.02-.2 1.41-.59l7.78-7.78 2.81-2.81c.8-.78.8-2.07 0-2.86zM5.41 20L4 18.59l7.72-7.72 1.47 1.35L5.41 20z\"/>\n",
              "  </svg>\n",
              "      </button>\n",
              "      \n",
              "  <style>\n",
              "    .colab-df-container {\n",
              "      display:flex;\n",
              "      flex-wrap:wrap;\n",
              "      gap: 12px;\n",
              "    }\n",
              "\n",
              "    .colab-df-convert {\n",
              "      background-color: #E8F0FE;\n",
              "      border: none;\n",
              "      border-radius: 50%;\n",
              "      cursor: pointer;\n",
              "      display: none;\n",
              "      fill: #1967D2;\n",
              "      height: 32px;\n",
              "      padding: 0 0 0 0;\n",
              "      width: 32px;\n",
              "    }\n",
              "\n",
              "    .colab-df-convert:hover {\n",
              "      background-color: #E2EBFA;\n",
              "      box-shadow: 0px 1px 2px rgba(60, 64, 67, 0.3), 0px 1px 3px 1px rgba(60, 64, 67, 0.15);\n",
              "      fill: #174EA6;\n",
              "    }\n",
              "\n",
              "    [theme=dark] .colab-df-convert {\n",
              "      background-color: #3B4455;\n",
              "      fill: #D2E3FC;\n",
              "    }\n",
              "\n",
              "    [theme=dark] .colab-df-convert:hover {\n",
              "      background-color: #434B5C;\n",
              "      box-shadow: 0px 1px 3px 1px rgba(0, 0, 0, 0.15);\n",
              "      filter: drop-shadow(0px 1px 2px rgba(0, 0, 0, 0.3));\n",
              "      fill: #FFFFFF;\n",
              "    }\n",
              "  </style>\n",
              "\n",
              "      <script>\n",
              "        const buttonEl =\n",
              "          document.querySelector('#df-35942aad-c6c1-418a-acb2-999458ebec73 button.colab-df-convert');\n",
              "        buttonEl.style.display =\n",
              "          google.colab.kernel.accessAllowed ? 'block' : 'none';\n",
              "\n",
              "        async function convertToInteractive(key) {\n",
              "          const element = document.querySelector('#df-35942aad-c6c1-418a-acb2-999458ebec73');\n",
              "          const dataTable =\n",
              "            await google.colab.kernel.invokeFunction('convertToInteractive',\n",
              "                                                     [key], {});\n",
              "          if (!dataTable) return;\n",
              "\n",
              "          const docLinkHtml = 'Like what you see? Visit the ' +\n",
              "            '<a target=\"_blank\" href=https://colab.research.google.com/notebooks/data_table.ipynb>data table notebook</a>'\n",
              "            + ' to learn more about interactive tables.';\n",
              "          element.innerHTML = '';\n",
              "          dataTable['output_type'] = 'display_data';\n",
              "          await google.colab.output.renderOutput(dataTable, element);\n",
              "          const docLink = document.createElement('div');\n",
              "          docLink.innerHTML = docLinkHtml;\n",
              "          element.appendChild(docLink);\n",
              "        }\n",
              "      </script>\n",
              "    </div>\n",
              "  </div>\n",
              "  "
            ]
          },
          "metadata": {},
          "execution_count": 24
        }
      ]
    },
    {
      "cell_type": "markdown",
      "source": [
        "#Exploratory Data Analysis Methods"
      ],
      "metadata": {
        "id": "NdBY_indl4Mo"
      }
    },
    {
      "cell_type": "markdown",
      "source": [
        "##Scatter Plot"
      ],
      "metadata": {
        "id": "6wIJrBrnl95f"
      }
    },
    {
      "cell_type": "code",
      "source": [
        "dataset.plot.scatter(x='Estimated Diameter', y='Relative Velocity',s=150,c='yellowgreen')\n",
        "plt.show()\n"
      ],
      "metadata": {
        "colab": {
          "base_uri": "https://localhost:8080/"
        },
        "id": "KgoC3qaymAqP",
        "outputId": "4250d964-8db2-476e-9e4f-8ea5e9055195"
      },
      "execution_count": null,
      "outputs": [
        {
          "output_type": "display_data",
          "data": {
            "text/plain": [
              "<Figure size 432x288 with 1 Axes>"
            ],
            "image/png": "[encoded data removed]"
          },
          "metadata": {
            "needs_background": "light"
          }
        }
      ]
    },
    {
      "cell_type": "markdown",
      "source": [
        "We can see that smaller the astromonical body higher the velocity it has, witha few outliers."
      ],
      "metadata": {
        "id": "yGtbZUo0nO9G"
      }
    },
    {
      "cell_type": "markdown",
      "source": [
        "##Bar Graph"
      ],
      "metadata": {
        "id": "vF7pmoJ8ncjn"
      }
    },
    {
      "cell_type": "code",
      "source": [
        "Type = pd.DataFrame(dataset.Hazardous.value_counts())\n",
        "x = Type.index\n",
        "y = Type.Hazardous\n",
        "plt.barh(x,y,color = ['g','r'])\n",
        "plt.xlabel('Number of Bodies')  \n",
        "plt.ylabel('Hazardous or Not')\n",
        "plt.show()"
      ],
      "metadata": {
        "colab": {
          "base_uri": "https://localhost:8080/"
        },
        "id": "n06y1_ncngE9",
        "outputId": "beab37d9-dd1a-4043-a903-37f67befa1ff"
      },
      "execution_count": null,
      "outputs": [
        {
          "output_type": "display_data",
          "data": {
            "text/plain": [
              "<Figure size 432x288 with 1 Axes>"
            ],
            "image/png": "[encoded data removed]"
          },
          "metadata": {
            "needs_background": "light"
          }
        }
      ]
    },
    {
      "cell_type": "markdown",
      "source": [
        "We can see that maximum(more than 80000) of astromonical bodies orbiting around Earth are non-hazardous while only few(around 8000) bodies are hazardous"
      ],
      "metadata": {
        "id": "tO-cmlfwrJu-"
      }
    },
    {
      "cell_type": "markdown",
      "source": [
        "---\n",
        "#K-Nearest Neighbour\n",
        "---"
      ],
      "metadata": {
        "id": "w7PbMRK63pSp"
      }
    },
    {
      "cell_type": "markdown",
      "source": [
        "K-Nearest Neighbour is one of the simplest Machine Learning algorithms based on Supervised Learning technique.\n",
        "\n",
        "K-NN algorithm can be used for Regression as well as for Classification but mostly it is used for the Classification problems.\n",
        "\n",
        "K-NN is a non-parametric algorithm, which means it does not make any assumption on underlying data.\n",
        "\n",
        "It is also called a lazy learner algorithm because it does not learn from the training set immediately instead it stores the dataset and at the time of classification, it performs an action on the dataset.\n",
        "\n",
        "KNN algorithm at the training phase just stores the dataset and when it gets new data, then it classifies that data into a category that is much similar to the new data."
      ],
      "metadata": {
        "id": "f0S4F9TM3BnQ"
      }
    },
    {
      "cell_type": "markdown",
      "source": [
        "###Applying KNN for different values and displaying accurracy without Preprocessing\n",
        "\n",
        "*this will give error"
      ],
      "metadata": {
        "id": "KWxvDcWzTddO"
      }
    },
    {
      "cell_type": "code",
      "source": [
        "from sklearn.neighbors import KNeighborsClassifier\n",
        "from sklearn.metrics import classification_report,confusion_matrix\n",
        "from sklearn.model_selection import cross_val_score\n",
        "\n",
        "accuracy_rate = []\n",
        "error_rate = []\n",
        "\n",
        "# Will take some time\n",
        "for i in range(5,200,22):\n",
        "    \n",
        "    knn = KNeighborsClassifier(n_neighbors=i)\n",
        "    score=cross_val_score(knn,x,y,cv=10)\n",
        "    accuracy_rate.append(score.mean())\n",
        "    error_rate.append(1-score.mean())\n",
        "    print(\"K : \",i)\n",
        "    print(\"Accuracy rate : \",score.mean())\n",
        "    print()"
      ],
      "metadata": {
        "colab": {
          "base_uri": "https://localhost:8080/"
        },
        "id": "jBO1UZmcTitU",
        "outputId": "1444d9bd-7476-47f0-ada3-4d59ce635666"
      },
      "execution_count": null,
      "outputs": [
        {
          "output_type": "stream",
          "name": "stdout",
          "text": [
            "K :  5\n",
            "Accuracy rate :  0.8393333333333335\n",
            "\n",
            "K :  27\n",
            "Accuracy rate :  0.8706666666666667\n",
            "\n",
            "K :  49\n",
            "Accuracy rate :  0.8706666666666667\n",
            "\n",
            "K :  71\n",
            "Accuracy rate :  0.8706666666666667\n",
            "\n",
            "K :  93\n",
            "Accuracy rate :  0.8706666666666667\n",
            "\n",
            "K :  115\n",
            "Accuracy rate :  0.8706666666666667\n",
            "\n",
            "K :  137\n",
            "Accuracy rate :  0.8706666666666667\n",
            "\n",
            "K :  159\n",
            "Accuracy rate :  0.8706666666666667\n",
            "\n",
            "K :  181\n",
            "Accuracy rate :  0.8706666666666667\n",
            "\n"
          ]
        }
      ]
    },
    {
      "cell_type": "markdown",
      "source": [
        "##Impact of Preprocessing\n",
        "\n",
        "Since the KNN function doesn't work on categorical data untill and unless it is encoded so preprocessing becomes quite important when using KNN classification."
      ],
      "metadata": {
        "id": "FVllsTyWZb0D"
      }
    },
    {
      "cell_type": "code",
      "source": [
        "print(x)"
      ],
      "metadata": {
        "colab": {
          "base_uri": "https://localhost:8080/"
        },
        "id": "SR74OiAZS989",
        "outputId": "fcf0e6a5-adb4-48c9-ab7b-0a1b98f13d90"
      },
      "execution_count": null,
      "outputs": [
        {
          "output_type": "stream",
          "name": "stdout",
          "text": [
            "[['Too High' 'Too Low']\n",
            " ['Too High' 'Too High']\n",
            " ['Too High' 'Too High']\n",
            " ...\n",
            " ['Too Low' 'High']\n",
            " ['Low' 'Too Low']\n",
            " ['Too High' 'Low']]\n"
          ]
        }
      ]
    },
    {
      "cell_type": "code",
      "source": [
        "print(y)"
      ],
      "metadata": {
        "colab": {
          "base_uri": "https://localhost:8080/"
        },
        "id": "_6HDsmctT22S",
        "outputId": "2d8b4e33-434f-4c5b-b704-8f8898ceeefe"
      },
      "execution_count": null,
      "outputs": [
        {
          "output_type": "stream",
          "name": "stdout",
          "text": [
            "[False  True False ... False False False]\n"
          ]
        }
      ]
    },
    {
      "cell_type": "markdown",
      "source": [
        "###Preprocessing"
      ],
      "metadata": {
        "id": "hmQRKGHJZgFi"
      }
    },
    {
      "cell_type": "markdown",
      "source": [
        "**Encoding character values**"
      ],
      "metadata": {
        "id": "gqehSJxN_-OA"
      }
    },
    {
      "cell_type": "code",
      "source": [
        "from sklearn.preprocessing import LabelEncoder\n",
        "le = LabelEncoder()\n",
        "x[:,0] = le.fit_transform(x[:,0])\n",
        "x[:,1] = le.fit_transform(x[:,1])\n",
        "y= le.fit_transform(y)"
      ],
      "metadata": {
        "id": "j3J8YSQwAfg2"
      },
      "execution_count": null,
      "outputs": []
    },
    {
      "cell_type": "code",
      "source": [
        "print(x)"
      ],
      "metadata": {
        "colab": {
          "base_uri": "https://localhost:8080/"
        },
        "id": "FNjNJq_uT_ii",
        "outputId": "ca4bf6ac-50db-484d-bc89-a04b898a84f4"
      },
      "execution_count": null,
      "outputs": [
        {
          "output_type": "stream",
          "name": "stdout",
          "text": [
            "[[2 3]\n",
            " [2 2]\n",
            " [2 2]\n",
            " ...\n",
            " [3 0]\n",
            " [1 3]\n",
            " [2 1]]\n"
          ]
        }
      ]
    },
    {
      "cell_type": "code",
      "source": [
        "print(y)"
      ],
      "metadata": {
        "colab": {
          "base_uri": "https://localhost:8080/"
        },
        "id": "SpTj4t8gUDO6",
        "outputId": "a245d193-300b-44a1-d803-402c6aae3d84"
      },
      "execution_count": null,
      "outputs": [
        {
          "output_type": "stream",
          "name": "stdout",
          "text": [
            "[0 1 0 ... 0 0 0]\n"
          ]
        }
      ]
    },
    {
      "cell_type": "markdown",
      "source": [
        "###Feature Scaling"
      ],
      "metadata": {
        "id": "dlebVmFN9xqk"
      }
    },
    {
      "cell_type": "code",
      "source": [
        "from sklearn.preprocessing import StandardScaler  \n",
        "sc = StandardScaler()  \n",
        "x = sc.fit_transform(x)  \n",
        "# x_test = sc.transform(x_test)  "
      ],
      "metadata": {
        "id": "KgxZe6Bu91Jw"
      },
      "execution_count": null,
      "outputs": []
    },
    {
      "cell_type": "markdown",
      "source": [
        "###KNN after Preprocessing"
      ],
      "metadata": {
        "id": "sGvgIHUAaqin"
      }
    },
    {
      "cell_type": "code",
      "source": [
        "from sklearn.neighbors import KNeighborsClassifier\n",
        "from sklearn.metrics import classification_report,confusion_matrix\n",
        "from sklearn.model_selection import cross_val_score\n",
        "\n",
        "accuracy_rate = []\n",
        "error_rate = []\n",
        "\n",
        "# Will take some time\n",
        "for i in range(5,200,22):\n",
        "    \n",
        "    knn = KNeighborsClassifier(n_neighbors=i)\n",
        "    score=cross_val_score(knn,x,y,cv=10)\n",
        "    accuracy_rate.append(score.mean())\n",
        "    error_rate.append(1-score.mean())\n",
        "    print(\"K : \",i)\n",
        "    print(\"Accuracy rate : \",score.mean())\n",
        "    print()"
      ],
      "metadata": {
        "colab": {
          "base_uri": "https://localhost:8080/"
        },
        "outputId": "1373d823-4289-4898-e579-73b326827974",
        "id": "TqlNFYhOaf05"
      },
      "execution_count": null,
      "outputs": [
        {
          "output_type": "stream",
          "name": "stdout",
          "text": [
            "K :  5\n",
            "Accuracy rate :  0.8393333333333335\n",
            "\n",
            "K :  27\n",
            "Accuracy rate :  0.8706666666666667\n",
            "\n",
            "K :  49\n",
            "Accuracy rate :  0.8706666666666667\n",
            "\n",
            "K :  71\n",
            "Accuracy rate :  0.8706666666666667\n",
            "\n",
            "K :  93\n",
            "Accuracy rate :  0.8706666666666667\n",
            "\n",
            "K :  115\n",
            "Accuracy rate :  0.8706666666666667\n",
            "\n",
            "K :  137\n",
            "Accuracy rate :  0.8706666666666667\n",
            "\n",
            "K :  159\n",
            "Accuracy rate :  0.8706666666666667\n",
            "\n",
            "K :  181\n",
            "Accuracy rate :  0.8706666666666667\n",
            "\n"
          ]
        }
      ]
    },
    {
      "cell_type": "markdown",
      "source": [
        "###Accuracy Visualisation after Preprocessing"
      ],
      "metadata": {
        "id": "XQfGV4Ykaf1E"
      }
    },
    {
      "cell_type": "code",
      "source": [
        "plt.figure(figsize=(10,6))\n",
        "plt.plot(range(5,200,22),accuracy_rate,color='blue', linestyle='dashed', marker='o',markerfacecolor='red', markersize=10)\n",
        "plt.title('Accuracy Rate vs. K Value')\n",
        "plt.xlabel('K')\n",
        "plt.ylabel('Accuracy Rate')"
      ],
      "metadata": {
        "colab": {
          "base_uri": "https://localhost:8080/",
          "height": 422
        },
        "outputId": "e7a66b2e-5650-499d-877c-eeb1db40821f",
        "id": "mGKiBOVXaf1E"
      },
      "execution_count": null,
      "outputs": [
        {
          "output_type": "execute_result",
          "data": {
            "text/plain": [
              "Text(0, 0.5, 'Accuracy Rate')"
            ]
          },
          "metadata": {},
          "execution_count": 52
        },
        {
          "output_type": "display_data",
          "data": {
            "text/plain": [
              "<Figure size 720x432 with 1 Axes>"
            ],
            "image/png": "[encoded data removed]"
          },
          "metadata": {
            "needs_background": "light"
          }
        }
      ]
    },
    {
      "cell_type": "markdown",
      "metadata": {
        "id": "YvxIPVyMhmKp"
      },
      "source": [
        "## Splitting the dataset into the Training set and Test set"
      ]
    },
    {
      "cell_type": "code",
      "metadata": {
        "id": "AVzJWAXIhxoC"
      },
      "source": [
        "from sklearn.model_selection import train_test_split\n",
        "x_train, x_test, y_train, y_test = train_test_split(x, y, test_size = 0.3, random_state = 0)"
      ],
      "execution_count": null,
      "outputs": []
    },
    {
      "cell_type": "code",
      "metadata": {
        "id": "P3nS3-6r1i2B",
        "outputId": "620357ba-4ba1-4740-ed4b-3fbe2ce1aaf0",
        "colab": {
          "base_uri": "https://localhost:8080/"
        }
      },
      "source": [
        "print(x_train)"
      ],
      "execution_count": null,
      "outputs": [
        {
          "output_type": "stream",
          "name": "stdout",
          "text": [
            "[[ 0.4226159   0.45143601]\n",
            " [ 1.32564134  1.35310581]\n",
            " [ 0.4226159   0.45143601]\n",
            " ...\n",
            " [ 1.32564134  1.35310581]\n",
            " [-1.38343497  0.45143601]\n",
            " [-0.48040953  1.35310581]]\n"
          ]
        }
      ]
    },
    {
      "cell_type": "code",
      "metadata": {
        "id": "8dpDLojm1mVG",
        "outputId": "8bcf5a2d-6275-435e-84a2-9a7253ad14fa",
        "colab": {
          "base_uri": "https://localhost:8080/"
        }
      },
      "source": [
        "print(y_train)"
      ],
      "execution_count": null,
      "outputs": [
        {
          "output_type": "stream",
          "name": "stdout",
          "text": [
            "[0 0 0 ... 0 0 0]\n"
          ]
        }
      ]
    },
    {
      "cell_type": "code",
      "metadata": {
        "id": "qbb7i0DH1qui",
        "outputId": "0cfe6f96-e433-4c05-9960-b3fd90e98614",
        "colab": {
          "base_uri": "https://localhost:8080/"
        }
      },
      "source": [
        "print(x_test)"
      ],
      "execution_count": null,
      "outputs": [
        {
          "output_type": "stream",
          "name": "stdout",
          "text": [
            "[[ 0.4226159  -1.35190358]\n",
            " [-1.38343497 -1.35190358]\n",
            " [ 0.4226159  -0.45023379]\n",
            " [ 1.32564134 -1.35190358]\n",
            " [-1.38343497 -0.45023379]\n",
            " [-1.38343497 -0.45023379]\n",
            " [-0.48040953 -0.45023379]\n",
            " [ 1.32564134  1.35310581]\n",
            " [ 1.32564134 -0.45023379]\n",
            " [ 1.32564134  1.35310581]\n",
            " [-1.38343497 -1.35190358]\n",
            " [ 0.4226159   0.45143601]\n",
            " [ 1.32564134  1.35310581]\n",
            " [ 1.32564134  0.45143601]\n",
            " [-0.48040953  1.35310581]\n",
            " [ 1.32564134  1.35310581]\n",
            " [ 1.32564134  1.35310581]\n",
            " [-1.38343497 -1.35190358]\n",
            " [ 0.4226159  -0.45023379]\n",
            " [ 1.32564134 -0.45023379]\n",
            " [-1.38343497  0.45143601]\n",
            " [-1.38343497  0.45143601]\n",
            " [-0.48040953 -0.45023379]\n",
            " [ 1.32564134  1.35310581]\n",
            " [-0.48040953  0.45143601]\n",
            " [ 1.32564134 -1.35190358]\n",
            " [-0.48040953  1.35310581]\n",
            " [-1.38343497 -1.35190358]\n",
            " [-1.38343497 -0.45023379]\n",
            " [-0.48040953  0.45143601]\n",
            " [-1.38343497  1.35310581]\n",
            " [ 1.32564134 -0.45023379]\n",
            " [ 1.32564134  1.35310581]\n",
            " [-0.48040953  0.45143601]\n",
            " [ 0.4226159  -0.45023379]\n",
            " [ 1.32564134  1.35310581]\n",
            " [ 1.32564134  0.45143601]\n",
            " [ 1.32564134 -0.45023379]\n",
            " [-0.48040953  0.45143601]\n",
            " [-0.48040953 -1.35190358]\n",
            " [ 0.4226159  -1.35190358]\n",
            " [-0.48040953 -1.35190358]\n",
            " [-0.48040953  1.35310581]\n",
            " [-0.48040953  1.35310581]\n",
            " [ 0.4226159   0.45143601]\n",
            " [-1.38343497 -1.35190358]\n",
            " [ 1.32564134 -1.35190358]\n",
            " [-0.48040953  0.45143601]\n",
            " [-0.48040953  1.35310581]\n",
            " [ 0.4226159  -1.35190358]\n",
            " [-0.48040953 -0.45023379]\n",
            " [-1.38343497 -1.35190358]\n",
            " [-1.38343497  0.45143601]\n",
            " [-1.38343497  0.45143601]\n",
            " [-0.48040953  1.35310581]\n",
            " [ 0.4226159   0.45143601]\n",
            " [-1.38343497 -0.45023379]\n",
            " [-0.48040953  0.45143601]\n",
            " [ 1.32564134 -1.35190358]\n",
            " [-1.38343497 -1.35190358]\n",
            " [ 0.4226159   0.45143601]\n",
            " [ 0.4226159  -0.45023379]\n",
            " [ 0.4226159  -0.45023379]\n",
            " [-0.48040953 -1.35190358]\n",
            " [ 1.32564134 -0.45023379]\n",
            " [-0.48040953  0.45143601]\n",
            " [ 0.4226159  -0.45023379]\n",
            " [ 1.32564134  0.45143601]\n",
            " [ 0.4226159  -1.35190358]\n",
            " [ 0.4226159  -1.35190358]\n",
            " [-0.48040953 -0.45023379]\n",
            " [-0.48040953  0.45143601]\n",
            " [-0.48040953  0.45143601]\n",
            " [-1.38343497  0.45143601]\n",
            " [ 1.32564134  0.45143601]\n",
            " [-0.48040953  1.35310581]\n",
            " [-0.48040953  1.35310581]\n",
            " [-0.48040953 -1.35190358]\n",
            " [-1.38343497  0.45143601]\n",
            " [ 0.4226159  -1.35190358]\n",
            " [-1.38343497 -0.45023379]\n",
            " [-0.48040953 -1.35190358]\n",
            " [ 0.4226159  -0.45023379]\n",
            " [ 0.4226159  -1.35190358]\n",
            " [ 0.4226159   1.35310581]\n",
            " [-1.38343497  0.45143601]\n",
            " [ 1.32564134  1.35310581]\n",
            " [ 0.4226159  -1.35190358]\n",
            " [-1.38343497  0.45143601]\n",
            " [-0.48040953 -1.35190358]\n",
            " [-1.38343497  1.35310581]\n",
            " [-0.48040953 -0.45023379]\n",
            " [ 1.32564134  1.35310581]\n",
            " [ 0.4226159   1.35310581]\n",
            " [-1.38343497 -0.45023379]\n",
            " [ 0.4226159   0.45143601]\n",
            " [-1.38343497 -1.35190358]\n",
            " [ 1.32564134 -1.35190358]\n",
            " [ 0.4226159   1.35310581]\n",
            " [ 0.4226159  -0.45023379]\n",
            " [ 1.32564134  1.35310581]\n",
            " [ 1.32564134 -1.35190358]\n",
            " [ 0.4226159  -1.35190358]\n",
            " [ 1.32564134 -0.45023379]\n",
            " [ 0.4226159  -1.35190358]\n",
            " [ 1.32564134  1.35310581]\n",
            " [-1.38343497  1.35310581]\n",
            " [ 0.4226159  -1.35190358]\n",
            " [-1.38343497  0.45143601]\n",
            " [ 1.32564134 -0.45023379]\n",
            " [ 0.4226159   0.45143601]\n",
            " [ 0.4226159  -0.45023379]\n",
            " [ 0.4226159   0.45143601]\n",
            " [ 0.4226159  -1.35190358]\n",
            " [ 0.4226159   0.45143601]\n",
            " [-1.38343497 -1.35190358]\n",
            " [ 0.4226159  -1.35190358]\n",
            " [-0.48040953 -0.45023379]\n",
            " [-1.38343497  0.45143601]\n",
            " [ 1.32564134 -0.45023379]\n",
            " [-0.48040953 -0.45023379]\n",
            " [ 1.32564134 -0.45023379]\n",
            " [-1.38343497  1.35310581]\n",
            " [ 1.32564134 -0.45023379]\n",
            " [ 1.32564134 -1.35190358]\n",
            " [ 0.4226159  -0.45023379]\n",
            " [ 1.32564134  0.45143601]\n",
            " [-0.48040953 -0.45023379]\n",
            " [ 0.4226159  -0.45023379]\n",
            " [ 0.4226159   0.45143601]\n",
            " [ 1.32564134 -1.35190358]\n",
            " [-1.38343497 -0.45023379]\n",
            " [-1.38343497 -0.45023379]\n",
            " [ 1.32564134  1.35310581]\n",
            " [-0.48040953  0.45143601]\n",
            " [ 0.4226159   0.45143601]\n",
            " [ 0.4226159   0.45143601]\n",
            " [-0.48040953 -0.45023379]\n",
            " [-1.38343497  0.45143601]\n",
            " [ 1.32564134  0.45143601]\n",
            " [-0.48040953 -1.35190358]\n",
            " [-0.48040953 -0.45023379]\n",
            " [-0.48040953 -0.45023379]\n",
            " [ 1.32564134 -0.45023379]\n",
            " [-0.48040953 -0.45023379]\n",
            " [ 0.4226159   0.45143601]\n",
            " [ 1.32564134 -1.35190358]\n",
            " [-1.38343497  0.45143601]\n",
            " [-1.38343497 -1.35190358]\n",
            " [-0.48040953 -0.45023379]\n",
            " [-1.38343497 -1.35190358]\n",
            " [-1.38343497  1.35310581]\n",
            " [ 1.32564134 -0.45023379]\n",
            " [-1.38343497 -0.45023379]\n",
            " [ 1.32564134  1.35310581]\n",
            " [ 0.4226159  -1.35190358]\n",
            " [-1.38343497 -1.35190358]\n",
            " [-1.38343497 -1.35190358]\n",
            " [-1.38343497 -1.35190358]\n",
            " [ 0.4226159   1.35310581]\n",
            " [ 1.32564134  1.35310581]\n",
            " [-1.38343497 -1.35190358]\n",
            " [ 1.32564134 -1.35190358]\n",
            " [-0.48040953  1.35310581]\n",
            " [-1.38343497  0.45143601]\n",
            " [ 1.32564134 -0.45023379]\n",
            " [ 1.32564134 -0.45023379]\n",
            " [ 1.32564134  1.35310581]\n",
            " [ 1.32564134  1.35310581]\n",
            " [-1.38343497 -1.35190358]\n",
            " [-0.48040953  1.35310581]\n",
            " [-0.48040953 -1.35190358]\n",
            " [ 0.4226159   1.35310581]\n",
            " [ 0.4226159  -0.45023379]\n",
            " [ 1.32564134  1.35310581]\n",
            " [-1.38343497  0.45143601]\n",
            " [ 0.4226159   0.45143601]\n",
            " [ 1.32564134 -0.45023379]\n",
            " [-0.48040953  1.35310581]\n",
            " [ 0.4226159  -1.35190358]\n",
            " [-1.38343497  1.35310581]\n",
            " [-0.48040953  0.45143601]\n",
            " [-0.48040953  1.35310581]\n",
            " [ 0.4226159   0.45143601]\n",
            " [-0.48040953 -1.35190358]\n",
            " [-0.48040953  0.45143601]\n",
            " [ 0.4226159   0.45143601]\n",
            " [-0.48040953 -0.45023379]\n",
            " [ 1.32564134  0.45143601]\n",
            " [ 0.4226159   0.45143601]\n",
            " [-1.38343497 -1.35190358]\n",
            " [-1.38343497 -0.45023379]\n",
            " [-0.48040953  0.45143601]\n",
            " [ 1.32564134  1.35310581]\n",
            " [-0.48040953 -0.45023379]\n",
            " [-0.48040953  1.35310581]\n",
            " [ 1.32564134  1.35310581]\n",
            " [ 0.4226159  -0.45023379]\n",
            " [ 0.4226159  -1.35190358]\n",
            " [-0.48040953  1.35310581]\n",
            " [ 1.32564134  1.35310581]\n",
            " [ 0.4226159   0.45143601]\n",
            " [-1.38343497 -0.45023379]\n",
            " [-1.38343497 -0.45023379]\n",
            " [ 0.4226159  -1.35190358]\n",
            " [ 1.32564134  0.45143601]\n",
            " [-1.38343497 -0.45023379]\n",
            " [ 0.4226159  -1.35190358]\n",
            " [ 1.32564134  0.45143601]\n",
            " [ 1.32564134  0.45143601]\n",
            " [-0.48040953 -0.45023379]\n",
            " [ 1.32564134  1.35310581]\n",
            " [ 0.4226159   0.45143601]\n",
            " [ 1.32564134  1.35310581]\n",
            " [-0.48040953  1.35310581]\n",
            " [ 0.4226159   0.45143601]\n",
            " [-1.38343497 -0.45023379]\n",
            " [-0.48040953  1.35310581]\n",
            " [ 1.32564134  1.35310581]\n",
            " [ 0.4226159   0.45143601]\n",
            " [-0.48040953 -1.35190358]\n",
            " [-1.38343497 -0.45023379]\n",
            " [-1.38343497  0.45143601]\n",
            " [ 1.32564134 -0.45023379]\n",
            " [-1.38343497  1.35310581]\n",
            " [ 1.32564134  0.45143601]\n",
            " [ 1.32564134 -1.35190358]\n",
            " [ 1.32564134 -0.45023379]\n",
            " [-0.48040953 -0.45023379]\n",
            " [-0.48040953 -0.45023379]\n",
            " [-1.38343497  0.45143601]\n",
            " [ 1.32564134  1.35310581]\n",
            " [-1.38343497  1.35310581]\n",
            " [ 1.32564134  1.35310581]\n",
            " [ 0.4226159  -0.45023379]\n",
            " [ 1.32564134 -1.35190358]\n",
            " [-1.38343497 -1.35190358]\n",
            " [ 1.32564134 -0.45023379]\n",
            " [-0.48040953 -0.45023379]\n",
            " [-1.38343497  1.35310581]\n",
            " [ 0.4226159  -0.45023379]\n",
            " [-1.38343497 -1.35190358]\n",
            " [ 0.4226159   0.45143601]\n",
            " [ 1.32564134  1.35310581]\n",
            " [-0.48040953 -1.35190358]\n",
            " [ 1.32564134  1.35310581]\n",
            " [-1.38343497 -1.35190358]\n",
            " [-1.38343497  0.45143601]\n",
            " [-0.48040953 -0.45023379]\n",
            " [ 0.4226159  -0.45023379]\n",
            " [-1.38343497  0.45143601]\n",
            " [ 0.4226159  -0.45023379]\n",
            " [ 1.32564134 -1.35190358]\n",
            " [-0.48040953  0.45143601]\n",
            " [-1.38343497 -1.35190358]\n",
            " [ 1.32564134 -0.45023379]\n",
            " [-1.38343497 -1.35190358]\n",
            " [-1.38343497 -1.35190358]\n",
            " [ 1.32564134  0.45143601]\n",
            " [-1.38343497  0.45143601]\n",
            " [-0.48040953 -0.45023379]\n",
            " [ 0.4226159   0.45143601]\n",
            " [-1.38343497  0.45143601]\n",
            " [-0.48040953  1.35310581]\n",
            " [ 0.4226159  -0.45023379]\n",
            " [ 1.32564134 -0.45023379]\n",
            " [ 0.4226159   0.45143601]\n",
            " [-0.48040953 -1.35190358]\n",
            " [-1.38343497  0.45143601]\n",
            " [ 0.4226159   0.45143601]\n",
            " [ 0.4226159  -1.35190358]\n",
            " [ 0.4226159   0.45143601]\n",
            " [-1.38343497  1.35310581]\n",
            " [-1.38343497  1.35310581]\n",
            " [ 0.4226159   0.45143601]\n",
            " [ 1.32564134  1.35310581]\n",
            " [-1.38343497 -1.35190358]\n",
            " [ 0.4226159   0.45143601]\n",
            " [ 1.32564134  1.35310581]\n",
            " [ 0.4226159  -1.35190358]\n",
            " [-0.48040953 -0.45023379]\n",
            " [-1.38343497 -0.45023379]\n",
            " [ 0.4226159   1.35310581]\n",
            " [ 0.4226159   1.35310581]\n",
            " [-0.48040953 -0.45023379]\n",
            " [-1.38343497 -1.35190358]\n",
            " [-0.48040953 -0.45023379]\n",
            " [-1.38343497 -0.45023379]\n",
            " [-1.38343497 -0.45023379]\n",
            " [ 0.4226159   0.45143601]\n",
            " [ 1.32564134  0.45143601]\n",
            " [-1.38343497  0.45143601]\n",
            " [ 0.4226159   0.45143601]\n",
            " [ 1.32564134 -1.35190358]\n",
            " [-0.48040953  0.45143601]\n",
            " [-0.48040953 -0.45023379]\n",
            " [ 1.32564134  0.45143601]\n",
            " [-1.38343497 -1.35190358]\n",
            " [-1.38343497 -1.35190358]\n",
            " [-0.48040953 -1.35190358]\n",
            " [-1.38343497 -0.45023379]\n",
            " [-1.38343497  1.35310581]\n",
            " [-1.38343497 -0.45023379]\n",
            " [ 1.32564134 -0.45023379]\n",
            " [-0.48040953 -1.35190358]\n",
            " [-1.38343497 -0.45023379]\n",
            " [ 0.4226159  -0.45023379]\n",
            " [-0.48040953 -0.45023379]\n",
            " [ 1.32564134  1.35310581]\n",
            " [-0.48040953 -0.45023379]\n",
            " [ 0.4226159  -1.35190358]\n",
            " [ 0.4226159   0.45143601]\n",
            " [-1.38343497 -0.45023379]\n",
            " [-0.48040953  0.45143601]\n",
            " [ 0.4226159  -1.35190358]\n",
            " [-1.38343497 -0.45023379]\n",
            " [ 0.4226159  -1.35190358]\n",
            " [ 0.4226159   0.45143601]\n",
            " [-0.48040953  1.35310581]\n",
            " [-0.48040953  0.45143601]\n",
            " [ 0.4226159   1.35310581]\n",
            " [ 1.32564134 -0.45023379]\n",
            " [ 0.4226159   0.45143601]\n",
            " [-0.48040953  0.45143601]\n",
            " [ 1.32564134  1.35310581]\n",
            " [ 0.4226159  -1.35190358]\n",
            " [-0.48040953 -0.45023379]\n",
            " [ 1.32564134  1.35310581]\n",
            " [ 0.4226159  -0.45023379]\n",
            " [ 0.4226159  -1.35190358]\n",
            " [ 0.4226159   0.45143601]\n",
            " [-0.48040953 -0.45023379]\n",
            " [-1.38343497  1.35310581]\n",
            " [-1.38343497  0.45143601]\n",
            " [ 1.32564134  1.35310581]\n",
            " [ 0.4226159   0.45143601]\n",
            " [-0.48040953 -1.35190358]\n",
            " [ 0.4226159  -0.45023379]\n",
            " [ 0.4226159   0.45143601]\n",
            " [ 0.4226159  -0.45023379]\n",
            " [ 0.4226159   0.45143601]\n",
            " [ 0.4226159  -1.35190358]\n",
            " [-1.38343497 -1.35190358]\n",
            " [ 0.4226159   0.45143601]\n",
            " [ 1.32564134 -1.35190358]\n",
            " [-0.48040953 -1.35190358]\n",
            " [-0.48040953  1.35310581]\n",
            " [ 0.4226159   1.35310581]\n",
            " [-0.48040953  1.35310581]\n",
            " [-1.38343497 -0.45023379]\n",
            " [ 1.32564134 -1.35190358]\n",
            " [-0.48040953  0.45143601]\n",
            " [-0.48040953  1.35310581]\n",
            " [-0.48040953 -0.45023379]\n",
            " [ 0.4226159   0.45143601]\n",
            " [-1.38343497  1.35310581]\n",
            " [-1.38343497 -0.45023379]\n",
            " [ 0.4226159   0.45143601]\n",
            " [ 1.32564134  1.35310581]\n",
            " [ 1.32564134  1.35310581]\n",
            " [-1.38343497 -0.45023379]\n",
            " [-1.38343497  1.35310581]\n",
            " [-0.48040953 -1.35190358]\n",
            " [-1.38343497 -1.35190358]\n",
            " [-1.38343497 -1.35190358]\n",
            " [ 1.32564134  1.35310581]\n",
            " [ 1.32564134 -0.45023379]\n",
            " [-0.48040953 -1.35190358]\n",
            " [ 0.4226159   1.35310581]\n",
            " [-0.48040953 -0.45023379]\n",
            " [ 1.32564134 -1.35190358]\n",
            " [ 0.4226159   0.45143601]\n",
            " [ 0.4226159  -0.45023379]\n",
            " [ 1.32564134 -0.45023379]\n",
            " [-1.38343497 -0.45023379]\n",
            " [-0.48040953  1.35310581]\n",
            " [-1.38343497  1.35310581]\n",
            " [ 0.4226159  -1.35190358]\n",
            " [-0.48040953 -1.35190358]\n",
            " [-1.38343497  0.45143601]\n",
            " [ 0.4226159   0.45143601]\n",
            " [-1.38343497 -1.35190358]\n",
            " [-1.38343497  0.45143601]\n",
            " [ 0.4226159  -1.35190358]\n",
            " [ 1.32564134 -1.35190358]\n",
            " [-1.38343497  1.35310581]\n",
            " [-1.38343497  0.45143601]\n",
            " [-0.48040953  1.35310581]\n",
            " [-0.48040953 -1.35190358]\n",
            " [ 0.4226159   0.45143601]\n",
            " [-1.38343497  1.35310581]\n",
            " [ 1.32564134 -1.35190358]\n",
            " [-0.48040953  1.35310581]\n",
            " [ 1.32564134 -1.35190358]\n",
            " [-1.38343497 -0.45023379]\n",
            " [ 0.4226159   0.45143601]\n",
            " [ 1.32564134  1.35310581]\n",
            " [ 1.32564134  1.35310581]\n",
            " [ 0.4226159   0.45143601]\n",
            " [ 1.32564134  1.35310581]\n",
            " [-1.38343497 -1.35190358]\n",
            " [ 0.4226159   0.45143601]\n",
            " [ 1.32564134  1.35310581]\n",
            " [-0.48040953 -1.35190358]\n",
            " [ 1.32564134 -0.45023379]\n",
            " [ 1.32564134  0.45143601]\n",
            " [-0.48040953  1.35310581]\n",
            " [-1.38343497  0.45143601]\n",
            " [-1.38343497  0.45143601]\n",
            " [-1.38343497  0.45143601]\n",
            " [-0.48040953 -1.35190358]\n",
            " [ 1.32564134 -1.35190358]\n",
            " [ 0.4226159  -1.35190358]\n",
            " [-0.48040953  1.35310581]\n",
            " [ 0.4226159   0.45143601]\n",
            " [ 1.32564134 -0.45023379]\n",
            " [-0.48040953 -1.35190358]\n",
            " [-1.38343497  0.45143601]\n",
            " [ 0.4226159  -0.45023379]\n",
            " [ 1.32564134 -1.35190358]\n",
            " [-1.38343497  0.45143601]\n",
            " [ 1.32564134 -1.35190358]\n",
            " [-0.48040953 -0.45023379]\n",
            " [ 1.32564134  1.35310581]\n",
            " [ 0.4226159  -1.35190358]\n",
            " [ 1.32564134  1.35310581]\n",
            " [ 0.4226159   0.45143601]\n",
            " [ 1.32564134 -1.35190358]\n",
            " [-1.38343497 -0.45023379]\n",
            " [ 1.32564134 -0.45023379]\n",
            " [-0.48040953  1.35310581]\n",
            " [ 0.4226159   0.45143601]\n",
            " [ 1.32564134  1.35310581]\n",
            " [ 1.32564134  0.45143601]\n",
            " [-0.48040953  0.45143601]\n",
            " [ 1.32564134 -0.45023379]\n",
            " [ 0.4226159   0.45143601]\n",
            " [ 1.32564134  1.35310581]\n",
            " [ 1.32564134 -0.45023379]\n",
            " [ 0.4226159  -0.45023379]\n",
            " [ 1.32564134  1.35310581]\n",
            " [-1.38343497  1.35310581]\n",
            " [ 0.4226159  -0.45023379]\n",
            " [ 0.4226159  -1.35190358]\n",
            " [ 0.4226159   0.45143601]\n",
            " [-0.48040953  0.45143601]\n",
            " [ 0.4226159  -1.35190358]\n",
            " [ 0.4226159  -1.35190358]\n",
            " [-0.48040953 -1.35190358]\n",
            " [ 0.4226159   0.45143601]]\n"
          ]
        }
      ]
    },
    {
      "cell_type": "code",
      "metadata": {
        "id": "kj1hnFAR1s5w",
        "outputId": "aa54241d-9d43-4bcc-eaa8-d929da5e2f99",
        "colab": {
          "base_uri": "https://localhost:8080/"
        }
      },
      "source": [
        "print(y_test)"
      ],
      "execution_count": null,
      "outputs": [
        {
          "output_type": "stream",
          "name": "stdout",
          "text": [
            "[0 0 0 0 1 0 0 0 0 0 0 0 0 0 0 0 0 0 0 0 1 0 0 0 0 0 0 0 0 0 1 0 0 0 1 0 0\n",
            " 0 0 0 0 0 0 0 0 0 0 0 0 0 0 0 0 0 0 0 0 0 0 1 1 0 0 0 0 0 0 0 1 0 0 0 0 0\n",
            " 0 0 0 0 0 0 1 0 1 0 0 0 0 0 1 0 1 0 0 0 1 0 0 0 0 0 0 0 0 0 0 0 1 0 1 0 0\n",
            " 1 0 0 0 1 0 0 1 0 0 0 0 0 0 0 0 0 0 1 0 0 0 0 0 0 0 0 0 0 0 0 0 0 0 0 0 0\n",
            " 0 0 0 0 0 0 0 0 1 0 1 1 0 0 0 0 1 0 0 0 0 1 0 0 0 0 0 0 0 0 0 0 0 0 0 0 0\n",
            " 0 0 0 0 0 0 1 0 0 0 0 0 1 0 0 0 0 0 0 0 0 0 1 0 0 0 0 1 0 0 0 0 0 0 0 0 0\n",
            " 1 0 0 0 0 0 0 0 0 0 0 0 0 0 0 0 0 0 0 0 1 0 0 0 0 0 0 0 0 0 0 0 1 0 1 0 0\n",
            " 1 0 1 0 0 0 0 0 0 0 1 1 0 0 0 0 0 0 0 0 0 0 0 0 0 0 0 0 0 0 0 0 0 1 0 0 0\n",
            " 0 0 0 0 0 0 0 0 0 0 1 0 0 0 0 1 1 0 1 0 1 0 0 0 0 0 0 0 0 1 0 0 0 1 0 0 0\n",
            " 0 0 0 0 0 0 0 1 0 0 1 0 0 0 1 0 1 0 0 0 0 0 0 0 0 0 0 0 0 0 0 0 0 0 0 0 0\n",
            " 0 1 0 0 0 0 0 0 0 0 0 0 0 0 0 0 0 0 0 1 0 0 0 0 1 0 0 0 0 0 0 1 0 0 0 0 0\n",
            " 0 1 0 0 0 0 0 0 0 0 1 1 0 0 0 0 0 0 0 0 0 0 0 0 1 0 0 0 0 0 0 0 0 0 0 0 0\n",
            " 0 0 0 0 0 0]\n"
          ]
        }
      ]
    },
    {
      "cell_type": "markdown",
      "source": [
        "##Training and Testing Error"
      ],
      "metadata": {
        "id": "QwZepBkhbG41"
      }
    },
    {
      "cell_type": "markdown",
      "source": [
        "###Training Error"
      ],
      "metadata": {
        "id": "ZXtznqrKbUDR"
      }
    },
    {
      "cell_type": "code",
      "source": [
        "from sklearn.neighbors import KNeighborsClassifier\n",
        "from sklearn.metrics import classification_report,confusion_matrix\n",
        "from sklearn.model_selection import cross_val_score\n",
        "\n",
        "error_rate = []\n",
        "\n",
        "# Will take some time\n",
        "for i in range(5,200,22):\n",
        "    \n",
        "    knn = KNeighborsClassifier(n_neighbors=i)\n",
        "    knn.fit(x_train, y_train) \n",
        "    score=cross_val_score(knn,x_train,y_train,cv=10)\n",
        "    error_rate.append(1-score.mean())\n",
        "    print(\"K : \",i)\n",
        "    print(\"Error rate : \",1-score.mean())\n",
        "    print()"
      ],
      "metadata": {
        "colab": {
          "base_uri": "https://localhost:8080/"
        },
        "id": "ZRwiuJJLbRF3",
        "outputId": "d30898ec-464e-40bd-e0f7-7698a07367be"
      },
      "execution_count": null,
      "outputs": [
        {
          "output_type": "stream",
          "name": "stdout",
          "text": [
            "K :  5\n",
            "Error rate :  0.15999999999999992\n",
            "\n",
            "K :  27\n",
            "Error rate :  0.13238095238095227\n",
            "\n",
            "K :  49\n",
            "Error rate :  0.13238095238095227\n",
            "\n",
            "K :  71\n",
            "Error rate :  0.13238095238095227\n",
            "\n",
            "K :  93\n",
            "Error rate :  0.13238095238095227\n",
            "\n",
            "K :  115\n",
            "Error rate :  0.13238095238095227\n",
            "\n",
            "K :  137\n",
            "Error rate :  0.13238095238095227\n",
            "\n",
            "K :  159\n",
            "Error rate :  0.13238095238095227\n",
            "\n",
            "K :  181\n",
            "Error rate :  0.13238095238095227\n",
            "\n"
          ]
        }
      ]
    },
    {
      "cell_type": "code",
      "source": [
        "#Predicting the train set result  \n",
        "y_pred= knn.predict(x_train)  "
      ],
      "metadata": {
        "id": "UsRfIV4Mehv7"
      },
      "execution_count": null,
      "outputs": []
    },
    {
      "cell_type": "markdown",
      "source": [
        "###Training Error Visualisation"
      ],
      "metadata": {
        "id": "hjTED5lTboxy"
      }
    },
    {
      "cell_type": "code",
      "source": [
        "plt.figure(figsize=(10,6))\n",
        "plt.plot(range(5,200,22),error_rate,color='blue', linestyle='dashed', marker='o',markerfacecolor='red', markersize=10)\n",
        "plt.title('Error Rate vs. K Value')\n",
        "plt.xlabel('K')\n",
        "plt.ylabel('Error Rate')"
      ],
      "metadata": {
        "colab": {
          "base_uri": "https://localhost:8080/",
          "height": 422
        },
        "id": "dC-hl4Axb7eS",
        "outputId": "720b358e-ad69-4153-8dc0-69ffb5a37922"
      },
      "execution_count": null,
      "outputs": [
        {
          "output_type": "execute_result",
          "data": {
            "text/plain": [
              "Text(0, 0.5, 'Error Rate')"
            ]
          },
          "metadata": {},
          "execution_count": 60
        },
        {
          "output_type": "display_data",
          "data": {
            "text/plain": [
              "<Figure size 720x432 with 1 Axes>"
            ],
            "image/png": "[encoded data removed]"
          },
          "metadata": {
            "needs_background": "light"
          }
        }
      ]
    },
    {
      "cell_type": "markdown",
      "source": [
        "###Testing Error"
      ],
      "metadata": {
        "id": "CyUbuJFGbXe1"
      }
    },
    {
      "cell_type": "code",
      "source": [
        "from sklearn.neighbors import KNeighborsClassifier\n",
        "from sklearn.metrics import classification_report,confusion_matrix\n",
        "from sklearn.model_selection import cross_val_score\n",
        "\n",
        "error_rate = []\n",
        "\n",
        "# Will take some time\n",
        "for i in range(5,200,22):\n",
        "    \n",
        "    knn = KNeighborsClassifier(n_neighbors=i)\n",
        "    knn.fit(x_test, y_test) \n",
        "    score=cross_val_score(knn,x_test,y_test,cv=10)\n",
        "    error_rate.append(1-score.mean())\n",
        "    print(\"K : \",i)\n",
        "    print(\"Error rate : \",1-score.mean())\n",
        "    print()"
      ],
      "metadata": {
        "colab": {
          "base_uri": "https://localhost:8080/"
        },
        "id": "7EkLgSW-cIvh",
        "outputId": "cb0aff44-150d-4c14-ee11-cd6dcf8154b4"
      },
      "execution_count": null,
      "outputs": [
        {
          "output_type": "stream",
          "name": "stdout",
          "text": [
            "K :  5\n",
            "Error rate :  0.14\n",
            "\n",
            "K :  27\n",
            "Error rate :  0.12222222222222212\n",
            "\n",
            "K :  49\n",
            "Error rate :  0.12222222222222212\n",
            "\n",
            "K :  71\n",
            "Error rate :  0.12222222222222212\n",
            "\n",
            "K :  93\n",
            "Error rate :  0.12222222222222212\n",
            "\n",
            "K :  115\n",
            "Error rate :  0.12222222222222212\n",
            "\n",
            "K :  137\n",
            "Error rate :  0.12222222222222212\n",
            "\n",
            "K :  159\n",
            "Error rate :  0.12222222222222212\n",
            "\n",
            "K :  181\n",
            "Error rate :  0.12222222222222212\n",
            "\n"
          ]
        }
      ]
    },
    {
      "cell_type": "code",
      "source": [
        "#Predicting the test set result  \n",
        "y_pred= knn.predict(x_test)  "
      ],
      "metadata": {
        "id": "aGC22h4odfDf"
      },
      "execution_count": null,
      "outputs": []
    },
    {
      "cell_type": "markdown",
      "source": [
        "###Testing Error Visualisation"
      ],
      "metadata": {
        "id": "wPcmaiRubxwp"
      }
    },
    {
      "cell_type": "code",
      "source": [
        "plt.figure(figsize=(10,6))\n",
        "plt.plot(range(5,200,22),error_rate,color='blue', linestyle='dashed', marker='o',markerfacecolor='red', markersize=10)\n",
        "plt.title('Error Rate vs. K Value')\n",
        "plt.xlabel('K')\n",
        "plt.ylabel('Error Rate')"
      ],
      "metadata": {
        "colab": {
          "base_uri": "https://localhost:8080/",
          "height": 422
        },
        "id": "Jaiyys5UcPU5",
        "outputId": "324f6c39-98ab-4eb5-da14-95b277052d1c"
      },
      "execution_count": null,
      "outputs": [
        {
          "output_type": "execute_result",
          "data": {
            "text/plain": [
              "Text(0, 0.5, 'Error Rate')"
            ]
          },
          "metadata": {},
          "execution_count": 63
        },
        {
          "output_type": "display_data",
          "data": {
            "text/plain": [
              "<Figure size 720x432 with 1 Axes>"
            ],
            "image/png": "[encoded data removed]"
          },
          "metadata": {
            "needs_background": "light"
          }
        }
      ]
    },
    {
      "cell_type": "markdown",
      "source": [
        "##Visualising KNN"
      ],
      "metadata": {
        "id": "tmksluN0cmqQ"
      }
    },
    {
      "cell_type": "code",
      "source": [
        "import matplotlib.pyplot as mtp \n",
        "from matplotlib.colors import ListedColormap \n",
        "\n",
        "x_set, y_set = x_test, y_test  \n",
        "x1, x2 = np.meshgrid(np.arange(start = x_set[:, 0].min() - 1, stop = x_set[:, 0].max() + 1, step  =0.01),  \n",
        "np.arange(start = x_set[:, 1].min() - 1, stop = x_set[:, 1].max() + 1, step = 0.01))  \n",
        "mtp.contourf(x1, x2, knn.predict(np.array([x1.ravel(), x2.ravel()]).T).reshape(x1.shape),  \n",
        "alpha = 0.75, cmap = ListedColormap(('purple', 'white')))  \n",
        "mtp.xlim(x1.min(), x1.max())  \n",
        "mtp.ylim(x2.min(), x2.max())  \n",
        "for i, j in enumerate(np.unique(y_set)):  \n",
        "    mtp.scatter(x_set[y_set == j, 0], x_set[y_set == j, 1],  \n",
        "        color = ListedColormap(('purple', 'white'))(i), label = j)  \n",
        "mtp.title('K-NN Algorithm (Training set)')  \n",
        "mtp.xlabel('Estimated Diameter')  \n",
        "mtp.ylabel('Estimated Velocity')  \n",
        "mtp.legend()  \n",
        "mtp.show()  "
      ],
      "metadata": {
        "id": "-lYJqiZkcq2C",
        "colab": {
          "base_uri": "https://localhost:8080/",
          "height": 295
        },
        "outputId": "055c0aba-a251-431a-f97f-289570444683"
      },
      "execution_count": null,
      "outputs": [
        {
          "output_type": "display_data",
          "data": {
            "text/plain": [
              "<Figure size 432x288 with 1 Axes>"
            ],
            "image/png": "[encoded data removed]"
          },
          "metadata": {
            "needs_background": "light"
          }
        }
      ]
    },
    {
      "cell_type": "markdown",
      "metadata": {
        "id": "h4Hwj34ziWQW"
      },
      "source": [
        "## Making the Confusion Matrix"
      ]
    },
    {
      "cell_type": "code",
      "metadata": {
        "id": "D6bpZwUiiXic",
        "outputId": "636a8ed0-bf7b-41a1-9388-0a25d27a1ff2",
        "colab": {
          "base_uri": "https://localhost:8080/"
        }
      },
      "source": [
        "from sklearn.metrics import confusion_matrix, accuracy_score\n",
        "cm = confusion_matrix(y_test, y_pred)\n",
        "print(cm)\n",
        "accuracy_score(y_test, y_pred)"
      ],
      "execution_count": null,
      "outputs": [
        {
          "output_type": "stream",
          "name": "stdout",
          "text": [
            "[[395   0]\n",
            " [ 55   0]]\n"
          ]
        },
        {
          "output_type": "execute_result",
          "data": {
            "text/plain": [
              "0.8777777777777778"
            ]
          },
          "metadata": {},
          "execution_count": 70
        }
      ]
    },
    {
      "cell_type": "markdown",
      "source": [
        "##Conclusion"
      ],
      "metadata": {
        "id": "MLCQ_aCn-gzu"
      }
    },
    {
      "cell_type": "markdown",
      "source": [
        "###DataSet\n",
        "\n",
        "To demonstrate KNN Classifier I have used a dataset from NASA which lists out few Earth orbiting bodies with their name,esitimated diameters and velocities. The size of the data set is 90836x5. Based on diameter and velocities of bodies, we predict if they is Hazardous to Earth or Not.\n",
        "\n",
        "###Accuracy Rate and Error Rate\n",
        "\n",
        "From the graph is it clear that the both accuracy and error rate of the prediction stabilizes after a certain value of K\n",
        "\n",
        "###Impact of Preprocessing\n",
        "\n",
        "Since before preprocessing the categorical data is not encoded, the python function is unable to read it. hence preprocessing is major step while working with KNN Classification.\n",
        "\n",
        "\n",
        "###Inference\n",
        "\n",
        "After Spliting, Scaling and Training we can see that the accuracy in results is 87.77% and Confusion matrix is [[395   0][ 55   0]] which shows that 0+55=55 values out of 450 were wrongly predicted."
      ],
      "metadata": {
        "id": "tvMaaOYbE-eX"
      }
    }
  ]
}